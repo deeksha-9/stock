{
 "cells": [
  {
   "cell_type": "code",
   "execution_count": 1,
   "metadata": {},
   "outputs": [],
   "source": [
    "import pandas as pd\n",
    "import numpy as np\n",
    "import matplotlib.pyplot as plt\n",
    "import numpy as np"
   ]
  },
  {
   "cell_type": "code",
   "execution_count": 2,
   "metadata": {},
   "outputs": [],
   "source": [
    "import warnings\n",
    "warnings.filterwarnings('ignore')"
   ]
  },
  {
   "cell_type": "code",
   "execution_count": 3,
   "metadata": {},
   "outputs": [],
   "source": [
    "df = pd.read_csv('AAPL.csv')"
   ]
  },
  {
   "cell_type": "code",
   "execution_count": 4,
   "metadata": {},
   "outputs": [
    {
     "data": {
      "text/html": [
       "<div>\n",
       "<style scoped>\n",
       "    .dataframe tbody tr th:only-of-type {\n",
       "        vertical-align: middle;\n",
       "    }\n",
       "\n",
       "    .dataframe tbody tr th {\n",
       "        vertical-align: top;\n",
       "    }\n",
       "\n",
       "    .dataframe thead th {\n",
       "        text-align: right;\n",
       "    }\n",
       "</style>\n",
       "<table border=\"1\" class=\"dataframe\">\n",
       "  <thead>\n",
       "    <tr style=\"text-align: right;\">\n",
       "      <th></th>\n",
       "      <th>Date</th>\n",
       "      <th>Open</th>\n",
       "      <th>High</th>\n",
       "      <th>Low</th>\n",
       "      <th>Close</th>\n",
       "      <th>Adj Close</th>\n",
       "      <th>Volume</th>\n",
       "    </tr>\n",
       "  </thead>\n",
       "  <tbody>\n",
       "    <tr>\n",
       "      <th>0</th>\n",
       "      <td>2015-05-27</td>\n",
       "      <td>32.584999</td>\n",
       "      <td>33.064999</td>\n",
       "      <td>32.512501</td>\n",
       "      <td>33.009998</td>\n",
       "      <td>30.218685</td>\n",
       "      <td>183332800</td>\n",
       "    </tr>\n",
       "    <tr>\n",
       "      <th>1</th>\n",
       "      <td>2015-05-28</td>\n",
       "      <td>32.965000</td>\n",
       "      <td>32.987499</td>\n",
       "      <td>32.775002</td>\n",
       "      <td>32.945000</td>\n",
       "      <td>30.159180</td>\n",
       "      <td>122933200</td>\n",
       "    </tr>\n",
       "    <tr>\n",
       "      <th>2</th>\n",
       "      <td>2015-05-29</td>\n",
       "      <td>32.807499</td>\n",
       "      <td>32.862499</td>\n",
       "      <td>32.474998</td>\n",
       "      <td>32.570000</td>\n",
       "      <td>29.815893</td>\n",
       "      <td>203538000</td>\n",
       "    </tr>\n",
       "    <tr>\n",
       "      <th>3</th>\n",
       "      <td>2015-06-01</td>\n",
       "      <td>32.570000</td>\n",
       "      <td>32.847500</td>\n",
       "      <td>32.512501</td>\n",
       "      <td>32.634998</td>\n",
       "      <td>29.875401</td>\n",
       "      <td>128451200</td>\n",
       "    </tr>\n",
       "    <tr>\n",
       "      <th>4</th>\n",
       "      <td>2015-06-02</td>\n",
       "      <td>32.465000</td>\n",
       "      <td>32.665001</td>\n",
       "      <td>32.330002</td>\n",
       "      <td>32.490002</td>\n",
       "      <td>29.742664</td>\n",
       "      <td>134670400</td>\n",
       "    </tr>\n",
       "  </tbody>\n",
       "</table>\n",
       "</div>"
      ],
      "text/plain": [
       "         Date       Open       High        Low      Close  Adj Close  \\\n",
       "0  2015-05-27  32.584999  33.064999  32.512501  33.009998  30.218685   \n",
       "1  2015-05-28  32.965000  32.987499  32.775002  32.945000  30.159180   \n",
       "2  2015-05-29  32.807499  32.862499  32.474998  32.570000  29.815893   \n",
       "3  2015-06-01  32.570000  32.847500  32.512501  32.634998  29.875401   \n",
       "4  2015-06-02  32.465000  32.665001  32.330002  32.490002  29.742664   \n",
       "\n",
       "      Volume  \n",
       "0  183332800  \n",
       "1  122933200  \n",
       "2  203538000  \n",
       "3  128451200  \n",
       "4  134670400  "
      ]
     },
     "execution_count": 4,
     "metadata": {},
     "output_type": "execute_result"
    }
   ],
   "source": [
    "df.head(5)"
   ]
  },
  {
   "cell_type": "code",
   "execution_count": 5,
   "metadata": {},
   "outputs": [
    {
     "data": {
      "text/html": [
       "<div>\n",
       "<style scoped>\n",
       "    .dataframe tbody tr th:only-of-type {\n",
       "        vertical-align: middle;\n",
       "    }\n",
       "\n",
       "    .dataframe tbody tr th {\n",
       "        vertical-align: top;\n",
       "    }\n",
       "\n",
       "    .dataframe thead th {\n",
       "        text-align: right;\n",
       "    }\n",
       "</style>\n",
       "<table border=\"1\" class=\"dataframe\">\n",
       "  <thead>\n",
       "    <tr style=\"text-align: right;\">\n",
       "      <th></th>\n",
       "      <th>Date</th>\n",
       "      <th>Open</th>\n",
       "      <th>High</th>\n",
       "      <th>Low</th>\n",
       "      <th>Close</th>\n",
       "      <th>Adj Close</th>\n",
       "      <th>Volume</th>\n",
       "    </tr>\n",
       "  </thead>\n",
       "  <tbody>\n",
       "    <tr>\n",
       "      <th>1254</th>\n",
       "      <td>2020-05-19</td>\n",
       "      <td>78.757500</td>\n",
       "      <td>79.629997</td>\n",
       "      <td>78.252502</td>\n",
       "      <td>78.285004</td>\n",
       "      <td>77.761040</td>\n",
       "      <td>101729600</td>\n",
       "    </tr>\n",
       "    <tr>\n",
       "      <th>1255</th>\n",
       "      <td>2020-05-20</td>\n",
       "      <td>79.169998</td>\n",
       "      <td>79.879997</td>\n",
       "      <td>79.129997</td>\n",
       "      <td>79.807503</td>\n",
       "      <td>79.273354</td>\n",
       "      <td>111504800</td>\n",
       "    </tr>\n",
       "    <tr>\n",
       "      <th>1256</th>\n",
       "      <td>2020-05-21</td>\n",
       "      <td>79.665001</td>\n",
       "      <td>80.222504</td>\n",
       "      <td>78.967499</td>\n",
       "      <td>79.212502</td>\n",
       "      <td>78.682327</td>\n",
       "      <td>102688800</td>\n",
       "    </tr>\n",
       "    <tr>\n",
       "      <th>1257</th>\n",
       "      <td>2020-05-22</td>\n",
       "      <td>78.942497</td>\n",
       "      <td>79.807503</td>\n",
       "      <td>78.837502</td>\n",
       "      <td>79.722504</td>\n",
       "      <td>79.188927</td>\n",
       "      <td>81803200</td>\n",
       "    </tr>\n",
       "    <tr>\n",
       "      <th>1258</th>\n",
       "      <td>2020-05-26</td>\n",
       "      <td>80.875000</td>\n",
       "      <td>81.059998</td>\n",
       "      <td>79.125000</td>\n",
       "      <td>79.182503</td>\n",
       "      <td>78.652542</td>\n",
       "      <td>125522000</td>\n",
       "    </tr>\n",
       "  </tbody>\n",
       "</table>\n",
       "</div>"
      ],
      "text/plain": [
       "            Date       Open       High        Low      Close  Adj Close  \\\n",
       "1254  2020-05-19  78.757500  79.629997  78.252502  78.285004  77.761040   \n",
       "1255  2020-05-20  79.169998  79.879997  79.129997  79.807503  79.273354   \n",
       "1256  2020-05-21  79.665001  80.222504  78.967499  79.212502  78.682327   \n",
       "1257  2020-05-22  78.942497  79.807503  78.837502  79.722504  79.188927   \n",
       "1258  2020-05-26  80.875000  81.059998  79.125000  79.182503  78.652542   \n",
       "\n",
       "         Volume  \n",
       "1254  101729600  \n",
       "1255  111504800  \n",
       "1256  102688800  \n",
       "1257   81803200  \n",
       "1258  125522000  "
      ]
     },
     "execution_count": 5,
     "metadata": {},
     "output_type": "execute_result"
    }
   ],
   "source": [
    "df.tail(5)"
   ]
  },
  {
   "cell_type": "code",
   "execution_count": 6,
   "metadata": {},
   "outputs": [
    {
     "data": {
      "text/plain": [
       "8813"
      ]
     },
     "execution_count": 6,
     "metadata": {},
     "output_type": "execute_result"
    }
   ],
   "source": [
    "df.size"
   ]
  },
  {
   "cell_type": "code",
   "execution_count": 7,
   "metadata": {},
   "outputs": [],
   "source": [
    "df1 = df.reset_index()['Close']"
   ]
  },
  {
   "cell_type": "code",
   "execution_count": 8,
   "metadata": {},
   "outputs": [
    {
     "data": {
      "text/plain": [
       "(1259,)"
      ]
     },
     "execution_count": 8,
     "metadata": {},
     "output_type": "execute_result"
    }
   ],
   "source": [
    "df1.shape"
   ]
  },
  {
   "cell_type": "code",
   "execution_count": 9,
   "metadata": {},
   "outputs": [
    {
     "data": {
      "text/plain": [
       "0       33.009998\n",
       "1       32.945000\n",
       "2       32.570000\n",
       "3       32.634998\n",
       "4       32.490002\n",
       "          ...    \n",
       "1254    78.285004\n",
       "1255    79.807503\n",
       "1256    79.212502\n",
       "1257    79.722504\n",
       "1258    79.182503\n",
       "Name: Close, Length: 1259, dtype: float64"
      ]
     },
     "execution_count": 9,
     "metadata": {},
     "output_type": "execute_result"
    }
   ],
   "source": [
    "df1"
   ]
  },
  {
   "cell_type": "code",
   "execution_count": 10,
   "metadata": {},
   "outputs": [
    {
     "data": {
      "text/plain": [
       "[<matplotlib.lines.Line2D at 0x1ef63dd2880>]"
      ]
     },
     "execution_count": 10,
     "metadata": {},
     "output_type": "execute_result"
    },
    {
     "data": {
      "image/png": "[encoded data removed]",
      "text/plain": [
       "<Figure size 432x288 with 1 Axes>"
      ]
     },
     "metadata": {
      "needs_background": "light"
     },
     "output_type": "display_data"
    }
   ],
   "source": [
    "import matplotlib.pyplot as plt\n",
    "plt.plot(df1)"
   ]
  },
  {
   "cell_type": "code",
   "execution_count": 11,
   "metadata": {},
   "outputs": [],
   "source": [
    "from sklearn.preprocessing import MinMaxScaler\n",
    "sc = MinMaxScaler(feature_range = (0,1))\n",
    "df1 = sc.fit_transform(np.array(df1).reshape(-1,1))"
   ]
  },
  {
   "cell_type": "code",
   "execution_count": 12,
   "metadata": {},
   "outputs": [
    {
     "data": {
      "text/plain": [
       "(1259, 1)"
      ]
     },
     "execution_count": 12,
     "metadata": {},
     "output_type": "execute_result"
    }
   ],
   "source": [
    "df1.shape"
   ]
  },
  {
   "cell_type": "code",
   "execution_count": 13,
   "metadata": {},
   "outputs": [],
   "source": [
    "train_size = int(len(df1)*0.65)\n",
    "test_size = len(df1)-train_size\n",
    "train_data,test_data = df1[0:train_size,:],df1[train_size :len(df1),:1]"
   ]
  },
  {
   "cell_type": "code",
   "execution_count": 14,
   "metadata": {},
   "outputs": [
    {
     "data": {
      "text/plain": [
       "(818, 441)"
      ]
     },
     "execution_count": 14,
     "metadata": {},
     "output_type": "execute_result"
    }
   ],
   "source": [
    "train_size, test_size"
   ]
  },
  {
   "cell_type": "code",
   "execution_count": 15,
   "metadata": {},
   "outputs": [],
   "source": [
    "def dataset(dataset, time_set =1):\n",
    "    dataX, dataY = [],[]\n",
    "    for i in range(len(dataset)-time_set-1):\n",
    "        a = dataset[i:(i+time_step-1), 0]\n",
    "        dataX.append(a)\n",
    "        dataY.append(dataset[i+ time_step, 0])\n",
    "    return np.array(dataX), np.array(dataY)"
   ]
  },
  {
   "cell_type": "code",
   "execution_count": 16,
   "metadata": {},
   "outputs": [],
   "source": [
    "time_step = 100\n",
    "X_train, y_train = dataset(train_data, time_step)\n",
    "X_test, y_test = dataset(test_data, time_step)"
   ]
  },
  {
   "cell_type": "code",
   "execution_count": 17,
   "metadata": {},
   "outputs": [
    {
     "name": "stdout",
     "output_type": "stream",
     "text": [
      "[[0.17605334 0.17495568 0.16862282 ... 0.08975767 0.09055984 0.08388923]\n",
      " [0.17495568 0.16862282 0.16972048 ... 0.09055984 0.08388923 0.09085537]\n",
      " [0.16862282 0.16972048 0.16727185 ... 0.08388923 0.09085537 0.08739341]\n",
      " ...\n",
      " [0.32930843 0.32145569 0.32694418 ... 0.50042216 0.50413745 0.5062062 ]\n",
      " [0.32145569 0.32694418 0.32230005 ... 0.50413745 0.5062062  0.51920968]\n",
      " [0.32694418 0.32230005 0.32951954 ... 0.5062062  0.51920968 0.53719495]]\n"
     ]
    }
   ],
   "source": [
    "print(X_train)"
   ]
  },
  {
   "cell_type": "code",
   "execution_count": 18,
   "metadata": {},
   "outputs": [
    {
     "data": {
      "text/plain": [
       "(340, 99)"
      ]
     },
     "execution_count": 18,
     "metadata": {},
     "output_type": "execute_result"
    }
   ],
   "source": [
    "X_test.shape"
   ]
  },
  {
   "cell_type": "code",
   "execution_count": 19,
   "metadata": {},
   "outputs": [
    {
     "data": {
      "text/plain": [
       "(340,)"
      ]
     },
     "execution_count": 19,
     "metadata": {},
     "output_type": "execute_result"
    }
   ],
   "source": [
    "y_test.shape"
   ]
  },
  {
   "cell_type": "code",
   "execution_count": 20,
   "metadata": {},
   "outputs": [],
   "source": [
    "X_train = X_train.reshape(X_train.shape[0], X_train.shape[1], 1)\n",
    "X_test = X_test.reshape(X_test.shape[0], X_test.shape[1], 1)"
   ]
  },
  {
   "cell_type": "code",
   "execution_count": 21,
   "metadata": {},
   "outputs": [],
   "source": [
    "from tensorflow import keras\n",
    "from tensorflow.keras.models import Sequential\n",
    "from tensorflow.keras.layers import LSTM, Dense, Dropout"
   ]
  },
  {
   "cell_type": "code",
   "execution_count": 22,
   "metadata": {},
   "outputs": [],
   "source": [
    "model = Sequential()\n",
    "model.add(LSTM(50, return_sequences = True, input_shape = (100,1)))\n",
    "model.add(LSTM(50, return_sequences = True))\n",
    "model.add(LSTM(50))\n",
    "model.add(Dense(1))\n",
    "model.compile(loss = 'mean_squared_error', optimizer = 'adam')"
   ]
  },
  {
   "cell_type": "code",
   "execution_count": 23,
   "metadata": {},
   "outputs": [
    {
     "name": "stdout",
     "output_type": "stream",
     "text": [
      "Model: \"sequential\"\n",
      "_________________________________________________________________\n",
      "Layer (type)                 Output Shape              Param #   \n",
      "=================================================================\n",
      "lstm (LSTM)                  (None, 100, 50)           10400     \n",
      "_________________________________________________________________\n",
      "lstm_1 (LSTM)                (None, 100, 50)           20200     \n",
      "_________________________________________________________________\n",
      "lstm_2 (LSTM)                (None, 50)                20200     \n",
      "_________________________________________________________________\n",
      "dense (Dense)                (None, 1)                 51        \n",
      "=================================================================\n",
      "Total params: 50,851\n",
      "Trainable params: 50,851\n",
      "Non-trainable params: 0\n",
      "_________________________________________________________________\n"
     ]
    }
   ],
   "source": [
    "model.summary()"
   ]
  },
  {
   "cell_type": "code",
   "execution_count": 24,
   "metadata": {},
   "outputs": [],
   "source": [
    "import tensorflow as tf"
   ]
  },
  {
   "cell_type": "code",
   "execution_count": 25,
   "metadata": {},
   "outputs": [
    {
     "name": "stdout",
     "output_type": "stream",
     "text": [
      "Epoch 1/100\n",
      "WARNING:tensorflow:Model was constructed with shape (None, 100, 1) for input KerasTensor(type_spec=TensorSpec(shape=(None, 100, 1), dtype=tf.float32, name='lstm_input'), name='lstm_input', description=\"created by layer 'lstm_input'\"), but it was called on an input with incompatible shape (None, 99, 1).\n",
      "WARNING:tensorflow:Model was constructed with shape (None, 100, 1) for input KerasTensor(type_spec=TensorSpec(shape=(None, 100, 1), dtype=tf.float32, name='lstm_input'), name='lstm_input', description=\"created by layer 'lstm_input'\"), but it was called on an input with incompatible shape (None, 99, 1).\n",
      "12/12 [==============================] - ETA: 0s - loss: 0.0154WARNING:tensorflow:Model was constructed with shape (None, 100, 1) for input KerasTensor(type_spec=TensorSpec(shape=(None, 100, 1), dtype=tf.float32, name='lstm_input'), name='lstm_input', description=\"created by layer 'lstm_input'\"), but it was called on an input with incompatible shape (None, 99, 1).\n",
      "12/12 [==============================] - 10s 273ms/step - loss: 0.0154 - val_loss: 0.0795\n",
      "Epoch 2/100\n",
      "12/12 [==============================] - 2s 126ms/step - loss: 0.0042 - val_loss: 0.0069\n",
      "Epoch 3/100\n",
      "12/12 [==============================] - 1s 122ms/step - loss: 0.0012 - val_loss: 0.0070\n",
      "Epoch 4/100\n",
      "12/12 [==============================] - 1s 120ms/step - loss: 8.9757e-04 - val_loss: 0.0045\n",
      "Epoch 5/100\n",
      "12/12 [==============================] - 1s 122ms/step - loss: 7.6792e-04 - val_loss: 0.0048\n",
      "Epoch 6/100\n",
      "12/12 [==============================] - 1s 120ms/step - loss: 7.1920e-04 - val_loss: 0.0048\n",
      "Epoch 7/100\n",
      "12/12 [==============================] - 1s 122ms/step - loss: 7.2213e-04 - val_loss: 0.0050\n",
      "Epoch 8/100\n",
      "12/12 [==============================] - 1s 123ms/step - loss: 6.9554e-04 - val_loss: 0.0045\n",
      "Epoch 9/100\n",
      "12/12 [==============================] - 1s 122ms/step - loss: 7.1966e-04 - val_loss: 0.0043\n",
      "Epoch 10/100\n",
      "12/12 [==============================] - 1s 121ms/step - loss: 7.0728e-04 - val_loss: 0.0043\n",
      "Epoch 11/100\n",
      "12/12 [==============================] - 1s 122ms/step - loss: 6.7875e-04 - val_loss: 0.0044\n",
      "Epoch 12/100\n",
      "12/12 [==============================] - 1s 121ms/step - loss: 6.8085e-04 - val_loss: 0.0043\n",
      "Epoch 13/100\n",
      "12/12 [==============================] - 1s 122ms/step - loss: 6.5871e-04 - val_loss: 0.0041\n",
      "Epoch 14/100\n",
      "12/12 [==============================] - 1s 122ms/step - loss: 6.5563e-04 - val_loss: 0.0039\n",
      "Epoch 15/100\n",
      "12/12 [==============================] - 1s 122ms/step - loss: 6.8875e-04 - val_loss: 0.0039\n",
      "Epoch 16/100\n",
      "12/12 [==============================] - 1s 121ms/step - loss: 6.4716e-04 - val_loss: 0.0042\n",
      "Epoch 17/100\n",
      "12/12 [==============================] - 1s 122ms/step - loss: 6.5034e-04 - val_loss: 0.0037\n",
      "Epoch 18/100\n",
      "12/12 [==============================] - 1s 121ms/step - loss: 6.2860e-04 - val_loss: 0.0036\n",
      "Epoch 19/100\n",
      "12/12 [==============================] - 1s 121ms/step - loss: 6.1237e-04 - val_loss: 0.0035\n",
      "Epoch 20/100\n",
      "12/12 [==============================] - 1s 122ms/step - loss: 6.4647e-04 - val_loss: 0.0037\n",
      "Epoch 21/100\n",
      "12/12 [==============================] - 1s 122ms/step - loss: 6.1597e-04 - val_loss: 0.0034\n",
      "Epoch 22/100\n",
      "12/12 [==============================] - 1s 123ms/step - loss: 5.8462e-04 - val_loss: 0.0033\n",
      "Epoch 23/100\n",
      "12/12 [==============================] - 1s 122ms/step - loss: 5.8928e-04 - val_loss: 0.0035\n",
      "Epoch 24/100\n",
      "12/12 [==============================] - 1s 121ms/step - loss: 6.1766e-04 - val_loss: 0.0042\n",
      "Epoch 25/100\n",
      "12/12 [==============================] - 1s 120ms/step - loss: 6.5592e-04 - val_loss: 0.0036\n",
      "Epoch 26/100\n",
      "12/12 [==============================] - 1s 121ms/step - loss: 6.2955e-04 - val_loss: 0.0032\n",
      "Epoch 27/100\n",
      "12/12 [==============================] - 1s 122ms/step - loss: 6.2014e-04 - val_loss: 0.0031\n",
      "Epoch 28/100\n",
      "12/12 [==============================] - 1s 122ms/step - loss: 5.6646e-04 - val_loss: 0.0029\n",
      "Epoch 29/100\n",
      "12/12 [==============================] - 1s 122ms/step - loss: 5.6585e-04 - val_loss: 0.0028\n",
      "Epoch 30/100\n",
      "12/12 [==============================] - 2s 126ms/step - loss: 5.2107e-04 - val_loss: 0.0027\n",
      "Epoch 31/100\n",
      "12/12 [==============================] - 1s 122ms/step - loss: 5.2474e-04 - val_loss: 0.0026\n",
      "Epoch 32/100\n",
      "12/12 [==============================] - 1s 123ms/step - loss: 5.4668e-04 - val_loss: 0.0025\n",
      "Epoch 33/100\n",
      "12/12 [==============================] - 1s 122ms/step - loss: 5.0524e-04 - val_loss: 0.0026\n",
      "Epoch 34/100\n",
      "12/12 [==============================] - 1s 122ms/step - loss: 5.3986e-04 - val_loss: 0.0024\n",
      "Epoch 35/100\n",
      "12/12 [==============================] - 1s 122ms/step - loss: 5.1561e-04 - val_loss: 0.0027\n",
      "Epoch 36/100\n",
      "12/12 [==============================] - 1s 121ms/step - loss: 5.0826e-04 - val_loss: 0.0024\n",
      "Epoch 37/100\n",
      "12/12 [==============================] - 1s 122ms/step - loss: 5.0974e-04 - val_loss: 0.0023\n",
      "Epoch 38/100\n",
      "12/12 [==============================] - 1s 121ms/step - loss: 5.5740e-04 - val_loss: 0.0026\n",
      "Epoch 39/100\n",
      "12/12 [==============================] - 1s 122ms/step - loss: 5.2747e-04 - val_loss: 0.0022\n",
      "Epoch 40/100\n",
      "12/12 [==============================] - 1s 121ms/step - loss: 5.1875e-04 - val_loss: 0.0027\n",
      "Epoch 41/100\n",
      "12/12 [==============================] - 1s 122ms/step - loss: 4.7549e-04 - val_loss: 0.0021\n",
      "Epoch 42/100\n",
      "12/12 [==============================] - 1s 121ms/step - loss: 4.8393e-04 - val_loss: 0.0021\n",
      "Epoch 43/100\n",
      "12/12 [==============================] - 1s 121ms/step - loss: 4.7474e-04 - val_loss: 0.0021\n",
      "Epoch 44/100\n",
      "12/12 [==============================] - 1s 122ms/step - loss: 4.5813e-04 - val_loss: 0.0020\n",
      "Epoch 45/100\n",
      "12/12 [==============================] - 1s 121ms/step - loss: 4.3191e-04 - val_loss: 0.0020\n",
      "Epoch 46/100\n",
      "12/12 [==============================] - 1s 120ms/step - loss: 4.2134e-04 - val_loss: 0.0021\n",
      "Epoch 47/100\n",
      "12/12 [==============================] - 1s 122ms/step - loss: 4.2519e-04 - val_loss: 0.0019\n",
      "Epoch 48/100\n",
      "12/12 [==============================] - 1s 122ms/step - loss: 4.1831e-04 - val_loss: 0.0021\n",
      "Epoch 49/100\n",
      "12/12 [==============================] - 1s 124ms/step - loss: 4.2720e-04 - val_loss: 0.0021\n",
      "Epoch 50/100\n",
      "12/12 [==============================] - 1s 123ms/step - loss: 5.1227e-04 - val_loss: 0.0018\n",
      "Epoch 51/100\n",
      "12/12 [==============================] - 1s 121ms/step - loss: 4.6525e-04 - val_loss: 0.0024\n",
      "Epoch 52/100\n",
      "12/12 [==============================] - 1s 121ms/step - loss: 4.5719e-04 - val_loss: 0.0020\n",
      "Epoch 53/100\n",
      "12/12 [==============================] - 1s 121ms/step - loss: 4.0455e-04 - val_loss: 0.0018\n",
      "Epoch 54/100\n",
      "12/12 [==============================] - 1s 122ms/step - loss: 3.9089e-04 - val_loss: 0.0021\n",
      "Epoch 55/100\n",
      "12/12 [==============================] - 1s 123ms/step - loss: 3.8945e-04 - val_loss: 0.0018\n",
      "Epoch 56/100\n",
      "12/12 [==============================] - 1s 121ms/step - loss: 3.9521e-04 - val_loss: 0.0018\n",
      "Epoch 57/100\n",
      "12/12 [==============================] - 1s 124ms/step - loss: 3.8939e-04 - val_loss: 0.0019\n",
      "Epoch 58/100\n",
      "12/12 [==============================] - 1s 122ms/step - loss: 4.0621e-04 - val_loss: 0.0021\n",
      "Epoch 59/100\n",
      "12/12 [==============================] - 2s 131ms/step - loss: 3.8874e-04 - val_loss: 0.0018\n",
      "Epoch 60/100\n",
      "12/12 [==============================] - 1s 122ms/step - loss: 3.7081e-04 - val_loss: 0.0018\n",
      "Epoch 61/100\n",
      "12/12 [==============================] - 2s 126ms/step - loss: 3.6910e-04 - val_loss: 0.0020\n",
      "Epoch 62/100\n",
      "12/12 [==============================] - 1s 120ms/step - loss: 4.2096e-04 - val_loss: 0.0024\n",
      "Epoch 63/100\n",
      "12/12 [==============================] - 1s 123ms/step - loss: 3.7219e-04 - val_loss: 0.0021\n",
      "Epoch 64/100\n",
      "12/12 [==============================] - 1s 122ms/step - loss: 4.2875e-04 - val_loss: 0.0028\n",
      "Epoch 65/100\n",
      "12/12 [==============================] - 1s 123ms/step - loss: 3.9106e-04 - val_loss: 0.0019\n",
      "Epoch 66/100\n",
      "12/12 [==============================] - 1s 121ms/step - loss: 4.5732e-04 - val_loss: 0.0027\n",
      "Epoch 67/100\n",
      "12/12 [==============================] - 1s 121ms/step - loss: 4.7543e-04 - val_loss: 0.0019\n",
      "Epoch 68/100\n",
      "12/12 [==============================] - 1s 122ms/step - loss: 3.6350e-04 - val_loss: 0.0022\n",
      "Epoch 69/100\n",
      "12/12 [==============================] - 1s 121ms/step - loss: 3.7403e-04 - val_loss: 0.0019\n",
      "Epoch 70/100\n",
      "12/12 [==============================] - 1s 120ms/step - loss: 3.3904e-04 - val_loss: 0.0029\n",
      "Epoch 71/100\n",
      "12/12 [==============================] - 1s 121ms/step - loss: 3.5470e-04 - val_loss: 0.0018\n",
      "Epoch 72/100\n",
      "12/12 [==============================] - 1s 122ms/step - loss: 3.2365e-04 - val_loss: 0.0018\n",
      "Epoch 73/100\n",
      "12/12 [==============================] - 1s 121ms/step - loss: 3.2263e-04 - val_loss: 0.0018\n",
      "Epoch 74/100\n",
      "12/12 [==============================] - 1s 122ms/step - loss: 3.1919e-04 - val_loss: 0.0022\n",
      "Epoch 75/100\n",
      "12/12 [==============================] - 1s 122ms/step - loss: 3.2839e-04 - val_loss: 0.0022\n",
      "Epoch 76/100\n",
      "12/12 [==============================] - 1s 124ms/step - loss: 3.3514e-04 - val_loss: 0.0018\n",
      "Epoch 77/100\n",
      "12/12 [==============================] - 1s 122ms/step - loss: 3.1933e-04 - val_loss: 0.0018\n",
      "Epoch 78/100\n",
      "12/12 [==============================] - 1s 122ms/step - loss: 3.1326e-04 - val_loss: 0.0019\n",
      "Epoch 79/100\n",
      "12/12 [==============================] - 1s 123ms/step - loss: 3.0931e-04 - val_loss: 0.0021\n",
      "Epoch 80/100\n",
      "12/12 [==============================] - 1s 121ms/step - loss: 2.9625e-04 - val_loss: 0.0020\n",
      "Epoch 81/100\n",
      "12/12 [==============================] - 1s 121ms/step - loss: 3.0187e-04 - val_loss: 0.0019\n",
      "Epoch 82/100\n",
      "12/12 [==============================] - 1s 121ms/step - loss: 3.9211e-04 - val_loss: 0.0018\n",
      "Epoch 83/100\n",
      "12/12 [==============================] - 1s 121ms/step - loss: 2.8904e-04 - val_loss: 0.0017\n",
      "Epoch 84/100\n",
      "12/12 [==============================] - 1s 123ms/step - loss: 2.9421e-04 - val_loss: 0.0018\n",
      "Epoch 85/100\n",
      "12/12 [==============================] - 1s 123ms/step - loss: 2.9730e-04 - val_loss: 0.0021\n",
      "Epoch 86/100\n",
      "12/12 [==============================] - 1s 122ms/step - loss: 3.2926e-04 - val_loss: 0.0019\n",
      "Epoch 87/100\n",
      "12/12 [==============================] - 1s 121ms/step - loss: 2.7923e-04 - val_loss: 0.0017\n",
      "Epoch 88/100\n",
      "12/12 [==============================] - 1s 120ms/step - loss: 2.7657e-04 - val_loss: 0.0021\n",
      "Epoch 89/100\n",
      "12/12 [==============================] - 1s 123ms/step - loss: 2.7338e-04 - val_loss: 0.0017\n",
      "Epoch 90/100\n",
      "12/12 [==============================] - 1s 121ms/step - loss: 2.7443e-04 - val_loss: 0.0019\n",
      "Epoch 91/100\n",
      "12/12 [==============================] - 1s 121ms/step - loss: 2.7320e-04 - val_loss: 0.0018\n",
      "Epoch 92/100\n",
      "12/12 [==============================] - 1s 122ms/step - loss: 2.6880e-04 - val_loss: 0.0017\n",
      "Epoch 93/100\n",
      "12/12 [==============================] - 1s 121ms/step - loss: 2.5743e-04 - val_loss: 0.0016\n",
      "Epoch 94/100\n",
      "12/12 [==============================] - 1s 122ms/step - loss: 2.5281e-04 - val_loss: 0.0017\n",
      "Epoch 95/100\n",
      "12/12 [==============================] - 1s 122ms/step - loss: 2.4607e-04 - val_loss: 0.0017\n",
      "Epoch 96/100\n",
      "12/12 [==============================] - 1s 124ms/step - loss: 2.5287e-04 - val_loss: 0.0017\n",
      "Epoch 97/100\n",
      "12/12 [==============================] - 1s 121ms/step - loss: 2.5249e-04 - val_loss: 0.0016\n",
      "Epoch 98/100\n",
      "12/12 [==============================] - 1s 122ms/step - loss: 2.8462e-04 - val_loss: 0.0027\n",
      "Epoch 99/100\n",
      "12/12 [==============================] - 1s 121ms/step - loss: 2.6310e-04 - val_loss: 0.0016\n",
      "Epoch 100/100\n",
      "12/12 [==============================] - 1s 122ms/step - loss: 2.3891e-04 - val_loss: 0.0015\n"
     ]
    },
    {
     "data": {
      "text/plain": [
       "<tensorflow.python.keras.callbacks.History at 0x1ef6e9f5640>"
      ]
     },
     "execution_count": 25,
     "metadata": {},
     "output_type": "execute_result"
    }
   ],
   "source": [
    "model.fit(X_train, y_train, validation_data = (X_test, y_test), epochs = 100 , batch_size = 64, verbose = 1)"
   ]
  },
  {
   "cell_type": "code",
   "execution_count": 26,
   "metadata": {},
   "outputs": [
    {
     "name": "stdout",
     "output_type": "stream",
     "text": [
      "WARNING:tensorflow:Model was constructed with shape (None, 100, 1) for input KerasTensor(type_spec=TensorSpec(shape=(None, 100, 1), dtype=tf.float32, name='lstm_input'), name='lstm_input', description=\"created by layer 'lstm_input'\"), but it was called on an input with incompatible shape (None, 99, 1).\n"
     ]
    }
   ],
   "source": [
    "train_predict = model.predict(X_train)\n",
    "test_predict = model.predict(X_test)"
   ]
  },
  {
   "cell_type": "code",
   "execution_count": 27,
   "metadata": {},
   "outputs": [],
   "source": [
    "train_predict=sc.inverse_transform(train_predict)\n",
    "test_predict=sc.inverse_transform(test_predict)"
   ]
  },
  {
   "cell_type": "code",
   "execution_count": 28,
   "metadata": {},
   "outputs": [
    {
     "data": {
      "text/plain": [
       "35.41619167601561"
      ]
     },
     "execution_count": 28,
     "metadata": {},
     "output_type": "execute_result"
    }
   ],
   "source": [
    "import math\n",
    "from sklearn.metrics import mean_squared_error\n",
    "math.sqrt(mean_squared_error(y_train,train_predict))"
   ]
  },
  {
   "cell_type": "code",
   "execution_count": 29,
   "metadata": {},
   "outputs": [
    {
     "data": {
      "text/plain": [
       "59.208459592832305"
      ]
     },
     "execution_count": 29,
     "metadata": {},
     "output_type": "execute_result"
    }
   ],
   "source": [
    "math.sqrt(mean_squared_error(y_test,test_predict))"
   ]
  },
  {
   "cell_type": "code",
   "execution_count": 30,
   "metadata": {},
   "outputs": [],
   "source": [
    "look_back=100\n",
    "trainPredictPlot = np.empty_like(df1)\n",
    "trainPredictPlot[:, :] = np.nan\n",
    "trainPredictPlot[look_back:len(train_predict)+look_back, :] = train_predict"
   ]
  },
  {
   "cell_type": "code",
   "execution_count": 31,
   "metadata": {},
   "outputs": [],
   "source": [
    "testPredictPlot = np.empty_like(df1)\n",
    "testPredictPlot[:, :] = np.nan\n",
    "testPredictPlot[len(train_predict)+(look_back*2)+1:len(df1)-1, :] = test_predict"
   ]
  },
  {
   "cell_type": "code",
   "execution_count": 32,
   "metadata": {},
   "outputs": [
    {
     "data": {
      "image/png": "[encoded data removed]",
      "text/plain": [
       "<Figure size 432x288 with 1 Axes>"
      ]
     },
     "metadata": {
      "needs_background": "light"
     },
     "output_type": "display_data"
    }
   ],
   "source": [
    "plt.plot(sc.inverse_transform(df1))\n",
    "plt.plot(trainPredictPlot)\n",
    "plt.plot(testPredictPlot)\n",
    "plt.show()"
   ]
  },
  {
   "cell_type": "code",
   "execution_count": 33,
   "metadata": {},
   "outputs": [
    {
     "data": {
      "text/plain": [
       "(441, 1)"
      ]
     },
     "execution_count": 33,
     "metadata": {},
     "output_type": "execute_result"
    }
   ],
   "source": [
    "test_data.shape"
   ]
  },
  {
   "cell_type": "code",
   "execution_count": 34,
   "metadata": {},
   "outputs": [
    {
     "data": {
      "text/plain": [
       "(1, 100)"
      ]
     },
     "execution_count": 34,
     "metadata": {},
     "output_type": "execute_result"
    }
   ],
   "source": [
    "x_input = test_data[341:].reshape(1,-1)\n",
    "x_input.shape"
   ]
  },
  {
   "cell_type": "code",
   "execution_count": 35,
   "metadata": {},
   "outputs": [],
   "source": [
    "temp_input=list(x_input)\n",
    "temp_input=temp_input[0].tolist()"
   ]
  },
  {
   "cell_type": "code",
   "execution_count": 36,
   "metadata": {},
   "outputs": [
    {
     "data": {
      "text/plain": [
       "[0.8866418889374725,\n",
       " 0.8743138647765689,\n",
       " 0.884319757877581,\n",
       " 0.8783669929330746,\n",
       " 0.898632076424414,\n",
       " 0.9258211314145988,\n",
       " 0.9287763959283022,\n",
       " 0.9567676293663678,\n",
       " 0.9386978847455618,\n",
       " 0.9330405516817999,\n",
       " 0.949505956294455,\n",
       " 0.9642404820237787,\n",
       " 0.9551211547667884,\n",
       " 0.959891921986529,\n",
       " 0.966351433498172,\n",
       " 0.9624672152348415,\n",
       " 0.9229502711846476,\n",
       " 0.9598496691818172,\n",
       " 0.9879252900160234,\n",
       " 0.985940995630094,\n",
       " 0.9253145199483563,\n",
       " 0.921725885554276,\n",
       " 0.9647470934900213,\n",
       " 0.9757240580444779,\n",
       " 0.9915983286938559,\n",
       " 0.9697289051943656,\n",
       " 0.9761461470136856,\n",
       " 0.9679556384054282,\n",
       " 0.9999999999999998,\n",
       " 0.9901628985788804,\n",
       " 0.9905007183652303,\n",
       " 0.9653803451571157,\n",
       " 0.9848855198928974,\n",
       " 0.9708687683277026,\n",
       " 0.940259971949001,\n",
       " 0.8774802919881586,\n",
       " 0.8348390553178042,\n",
       " 0.8541331686813698,\n",
       " 0.7733681483834738,\n",
       " 0.7726926270240562,\n",
       " 0.880140107733506,\n",
       " 0.8400742994123584,\n",
       " 0.8967321694346249,\n",
       " 0.8552731669156011,\n",
       " 0.8388499137819865,\n",
       " 0.7423372630355642,\n",
       " 0.8232710750133527,\n",
       " 0.7814319999032675,\n",
       " 0.6665962565838888,\n",
       " 0.7921556671684089,\n",
       " 0.6411804514950299,\n",
       " 0.6861436841243818,\n",
       " 0.6600101048713936,\n",
       " 0.6520307082981873,\n",
       " 0.5864223533616579,\n",
       " 0.5658616522258444,\n",
       " 0.6608967213782506,\n",
       " 0.655154933367901,\n",
       " 0.7097019194662215,\n",
       " 0.6645275579142069,\n",
       " 0.6943763779869032,\n",
       " 0.6921809715659226,\n",
       " 0.6356919607739957,\n",
       " 0.6526639599652817,\n",
       " 0.6378029122483888,\n",
       " 0.7267161714622192,\n",
       " 0.7138815527226847,\n",
       " 0.741915055853074,\n",
       " 0.7500210419642965,\n",
       " 0.7722282852501368,\n",
       " 0.8304904952805541,\n",
       " 0.8194291264423452,\n",
       " 0.8289706777694381,\n",
       " 0.8125474077482118,\n",
       " 0.787764854326447,\n",
       " 0.7516253819724472,\n",
       " 0.7842607424294017,\n",
       " 0.7797432724989766,\n",
       " 0.8132651819123409,\n",
       " 0.8141096131649335,\n",
       " 0.7947309773043332,\n",
       " 0.8333614906113995,\n",
       " 0.8589883401848624,\n",
       " 0.8390188236751617,\n",
       " 0.8562863898480864,\n",
       " 0.874862729047523,\n",
       " 0.8878240048755208,\n",
       " 0.9009540723834113,\n",
       " 0.9279320828889919,\n",
       " 0.9485349861666816,\n",
       " 0.9333361186634386,\n",
       " 0.9174617129131661,\n",
       " 0.9254411770368198,\n",
       " 0.9177150270900933,\n",
       " 0.948323823468795,\n",
       " 0.9406400614276744,\n",
       " 0.966351433498172,\n",
       " 0.9563032875924486,\n",
       " 0.9649160033831965,\n",
       " 0.955796676126206]"
      ]
     },
     "execution_count": 36,
     "metadata": {},
     "output_type": "execute_result"
    }
   ],
   "source": [
    "temp_input"
   ]
  },
  {
   "cell_type": "code",
   "execution_count": 37,
   "metadata": {},
   "outputs": [
    {
     "name": "stdout",
     "output_type": "stream",
     "text": [
      "[0.95250016]\n",
      "101\n",
      "1 day input [0.87431386 0.88431976 0.87836699 0.89863208 0.92582113 0.9287764\n",
      " 0.95676763 0.93869788 0.93304055 0.94950596 0.96424048 0.95512115\n",
      " 0.95989192 0.96635143 0.96246722 0.92295027 0.95984967 0.98792529\n",
      " 0.985941   0.92531452 0.92172589 0.96474709 0.97572406 0.99159833\n",
      " 0.96972891 0.97614615 0.96795564 1.         0.9901629  0.99050072\n",
      " 0.96538035 0.98488552 0.97086877 0.94025997 0.87748029 0.83483906\n",
      " 0.85413317 0.77336815 0.77269263 0.88014011 0.8400743  0.89673217\n",
      " 0.85527317 0.83884991 0.74233726 0.82327108 0.781432   0.66659626\n",
      " 0.79215567 0.64118045 0.68614368 0.6600101  0.65203071 0.58642235\n",
      " 0.56586165 0.66089672 0.65515493 0.70970192 0.66452756 0.69437638\n",
      " 0.69218097 0.63569196 0.65266396 0.63780291 0.72671617 0.71388155\n",
      " 0.74191506 0.75002104 0.77222829 0.8304905  0.81942913 0.82897068\n",
      " 0.81254741 0.78776485 0.75162538 0.78426074 0.77974327 0.81326518\n",
      " 0.81410961 0.79473098 0.83336149 0.85898834 0.83901882 0.85628639\n",
      " 0.87486273 0.887824   0.90095407 0.92793208 0.94853499 0.93333612\n",
      " 0.91746171 0.92544118 0.91771503 0.94832382 0.94064006 0.96635143\n",
      " 0.95630329 0.964916   0.95579668 0.95250016]\n",
      "1 day output [[0.9515091]]\n",
      "2 day input [0.88431976 0.87836699 0.89863208 0.92582113 0.9287764  0.95676763\n",
      " 0.93869788 0.93304055 0.94950596 0.96424048 0.95512115 0.95989192\n",
      " 0.96635143 0.96246722 0.92295027 0.95984967 0.98792529 0.985941\n",
      " 0.92531452 0.92172589 0.96474709 0.97572406 0.99159833 0.96972891\n",
      " 0.97614615 0.96795564 1.         0.9901629  0.99050072 0.96538035\n",
      " 0.98488552 0.97086877 0.94025997 0.87748029 0.83483906 0.85413317\n",
      " 0.77336815 0.77269263 0.88014011 0.8400743  0.89673217 0.85527317\n",
      " 0.83884991 0.74233726 0.82327108 0.781432   0.66659626 0.79215567\n",
      " 0.64118045 0.68614368 0.6600101  0.65203071 0.58642235 0.56586165\n",
      " 0.66089672 0.65515493 0.70970192 0.66452756 0.69437638 0.69218097\n",
      " 0.63569196 0.65266396 0.63780291 0.72671617 0.71388155 0.74191506\n",
      " 0.75002104 0.77222829 0.8304905  0.81942913 0.82897068 0.81254741\n",
      " 0.78776485 0.75162538 0.78426074 0.77974327 0.81326518 0.81410961\n",
      " 0.79473098 0.83336149 0.85898834 0.83901882 0.85628639 0.87486273\n",
      " 0.887824   0.90095407 0.92793208 0.94853499 0.93333612 0.91746171\n",
      " 0.92544118 0.91771503 0.94832382 0.94064006 0.96635143 0.95630329\n",
      " 0.964916   0.95579668 0.95250016 0.95150912]\n",
      "2 day output [[0.948107]]\n",
      "3 day input [0.87836699 0.89863208 0.92582113 0.9287764  0.95676763 0.93869788\n",
      " 0.93304055 0.94950596 0.96424048 0.95512115 0.95989192 0.96635143\n",
      " 0.96246722 0.92295027 0.95984967 0.98792529 0.985941   0.92531452\n",
      " 0.92172589 0.96474709 0.97572406 0.99159833 0.96972891 0.97614615\n",
      " 0.96795564 1.         0.9901629  0.99050072 0.96538035 0.98488552\n",
      " 0.97086877 0.94025997 0.87748029 0.83483906 0.85413317 0.77336815\n",
      " 0.77269263 0.88014011 0.8400743  0.89673217 0.85527317 0.83884991\n",
      " 0.74233726 0.82327108 0.781432   0.66659626 0.79215567 0.64118045\n",
      " 0.68614368 0.6600101  0.65203071 0.58642235 0.56586165 0.66089672\n",
      " 0.65515493 0.70970192 0.66452756 0.69437638 0.69218097 0.63569196\n",
      " 0.65266396 0.63780291 0.72671617 0.71388155 0.74191506 0.75002104\n",
      " 0.77222829 0.8304905  0.81942913 0.82897068 0.81254741 0.78776485\n",
      " 0.75162538 0.78426074 0.77974327 0.81326518 0.81410961 0.79473098\n",
      " 0.83336149 0.85898834 0.83901882 0.85628639 0.87486273 0.887824\n",
      " 0.90095407 0.92793208 0.94853499 0.93333612 0.91746171 0.92544118\n",
      " 0.91771503 0.94832382 0.94064006 0.96635143 0.95630329 0.964916\n",
      " 0.95579668 0.95250016 0.95150912 0.948107  ]\n",
      "3 day output [[0.9440251]]\n",
      "4 day input [0.89863208 0.92582113 0.9287764  0.95676763 0.93869788 0.93304055\n",
      " 0.94950596 0.96424048 0.95512115 0.95989192 0.96635143 0.96246722\n",
      " 0.92295027 0.95984967 0.98792529 0.985941   0.92531452 0.92172589\n",
      " 0.96474709 0.97572406 0.99159833 0.96972891 0.97614615 0.96795564\n",
      " 1.         0.9901629  0.99050072 0.96538035 0.98488552 0.97086877\n",
      " 0.94025997 0.87748029 0.83483906 0.85413317 0.77336815 0.77269263\n",
      " 0.88014011 0.8400743  0.89673217 0.85527317 0.83884991 0.74233726\n",
      " 0.82327108 0.781432   0.66659626 0.79215567 0.64118045 0.68614368\n",
      " 0.6600101  0.65203071 0.58642235 0.56586165 0.66089672 0.65515493\n",
      " 0.70970192 0.66452756 0.69437638 0.69218097 0.63569196 0.65266396\n",
      " 0.63780291 0.72671617 0.71388155 0.74191506 0.75002104 0.77222829\n",
      " 0.8304905  0.81942913 0.82897068 0.81254741 0.78776485 0.75162538\n",
      " 0.78426074 0.77974327 0.81326518 0.81410961 0.79473098 0.83336149\n",
      " 0.85898834 0.83901882 0.85628639 0.87486273 0.887824   0.90095407\n",
      " 0.92793208 0.94853499 0.93333612 0.91746171 0.92544118 0.91771503\n",
      " 0.94832382 0.94064006 0.96635143 0.95630329 0.964916   0.95579668\n",
      " 0.95250016 0.95150912 0.948107   0.9440251 ]\n",
      "4 day output [[0.9402264]]\n",
      "5 day input [0.92582113 0.9287764  0.95676763 0.93869788 0.93304055 0.94950596\n",
      " 0.96424048 0.95512115 0.95989192 0.96635143 0.96246722 0.92295027\n",
      " 0.95984967 0.98792529 0.985941   0.92531452 0.92172589 0.96474709\n",
      " 0.97572406 0.99159833 0.96972891 0.97614615 0.96795564 1.\n",
      " 0.9901629  0.99050072 0.96538035 0.98488552 0.97086877 0.94025997\n",
      " 0.87748029 0.83483906 0.85413317 0.77336815 0.77269263 0.88014011\n",
      " 0.8400743  0.89673217 0.85527317 0.83884991 0.74233726 0.82327108\n",
      " 0.781432   0.66659626 0.79215567 0.64118045 0.68614368 0.6600101\n",
      " 0.65203071 0.58642235 0.56586165 0.66089672 0.65515493 0.70970192\n",
      " 0.66452756 0.69437638 0.69218097 0.63569196 0.65266396 0.63780291\n",
      " 0.72671617 0.71388155 0.74191506 0.75002104 0.77222829 0.8304905\n",
      " 0.81942913 0.82897068 0.81254741 0.78776485 0.75162538 0.78426074\n",
      " 0.77974327 0.81326518 0.81410961 0.79473098 0.83336149 0.85898834\n",
      " 0.83901882 0.85628639 0.87486273 0.887824   0.90095407 0.92793208\n",
      " 0.94853499 0.93333612 0.91746171 0.92544118 0.91771503 0.94832382\n",
      " 0.94064006 0.96635143 0.95630329 0.964916   0.95579668 0.95250016\n",
      " 0.95150912 0.948107   0.9440251  0.94022638]\n",
      "5 day output [[0.9372018]]\n",
      "6 day input [0.9287764  0.95676763 0.93869788 0.93304055 0.94950596 0.96424048\n",
      " 0.95512115 0.95989192 0.96635143 0.96246722 0.92295027 0.95984967\n",
      " 0.98792529 0.985941   0.92531452 0.92172589 0.96474709 0.97572406\n",
      " 0.99159833 0.96972891 0.97614615 0.96795564 1.         0.9901629\n",
      " 0.99050072 0.96538035 0.98488552 0.97086877 0.94025997 0.87748029\n",
      " 0.83483906 0.85413317 0.77336815 0.77269263 0.88014011 0.8400743\n",
      " 0.89673217 0.85527317 0.83884991 0.74233726 0.82327108 0.781432\n",
      " 0.66659626 0.79215567 0.64118045 0.68614368 0.6600101  0.65203071\n",
      " 0.58642235 0.56586165 0.66089672 0.65515493 0.70970192 0.66452756\n",
      " 0.69437638 0.69218097 0.63569196 0.65266396 0.63780291 0.72671617\n",
      " 0.71388155 0.74191506 0.75002104 0.77222829 0.8304905  0.81942913\n",
      " 0.82897068 0.81254741 0.78776485 0.75162538 0.78426074 0.77974327\n",
      " 0.81326518 0.81410961 0.79473098 0.83336149 0.85898834 0.83901882\n",
      " 0.85628639 0.87486273 0.887824   0.90095407 0.92793208 0.94853499\n",
      " 0.93333612 0.91746171 0.92544118 0.91771503 0.94832382 0.94064006\n",
      " 0.96635143 0.95630329 0.964916   0.95579668 0.95250016 0.95150912\n",
      " 0.948107   0.9440251  0.94022638 0.9372018 ]\n",
      "6 day output [[0.9351903]]\n",
      "7 day input [0.95676763 0.93869788 0.93304055 0.94950596 0.96424048 0.95512115\n",
      " 0.95989192 0.96635143 0.96246722 0.92295027 0.95984967 0.98792529\n",
      " 0.985941   0.92531452 0.92172589 0.96474709 0.97572406 0.99159833\n",
      " 0.96972891 0.97614615 0.96795564 1.         0.9901629  0.99050072\n",
      " 0.96538035 0.98488552 0.97086877 0.94025997 0.87748029 0.83483906\n",
      " 0.85413317 0.77336815 0.77269263 0.88014011 0.8400743  0.89673217\n",
      " 0.85527317 0.83884991 0.74233726 0.82327108 0.781432   0.66659626\n",
      " 0.79215567 0.64118045 0.68614368 0.6600101  0.65203071 0.58642235\n",
      " 0.56586165 0.66089672 0.65515493 0.70970192 0.66452756 0.69437638\n",
      " 0.69218097 0.63569196 0.65266396 0.63780291 0.72671617 0.71388155\n",
      " 0.74191506 0.75002104 0.77222829 0.8304905  0.81942913 0.82897068\n",
      " 0.81254741 0.78776485 0.75162538 0.78426074 0.77974327 0.81326518\n",
      " 0.81410961 0.79473098 0.83336149 0.85898834 0.83901882 0.85628639\n",
      " 0.87486273 0.887824   0.90095407 0.92793208 0.94853499 0.93333612\n",
      " 0.91746171 0.92544118 0.91771503 0.94832382 0.94064006 0.96635143\n",
      " 0.95630329 0.964916   0.95579668 0.95250016 0.95150912 0.948107\n",
      " 0.9440251  0.94022638 0.9372018  0.93519032]\n",
      "7 day output [[0.9342838]]\n",
      "8 day input [0.93869788 0.93304055 0.94950596 0.96424048 0.95512115 0.95989192\n",
      " 0.96635143 0.96246722 0.92295027 0.95984967 0.98792529 0.985941\n",
      " 0.92531452 0.92172589 0.96474709 0.97572406 0.99159833 0.96972891\n",
      " 0.97614615 0.96795564 1.         0.9901629  0.99050072 0.96538035\n",
      " 0.98488552 0.97086877 0.94025997 0.87748029 0.83483906 0.85413317\n",
      " 0.77336815 0.77269263 0.88014011 0.8400743  0.89673217 0.85527317\n",
      " 0.83884991 0.74233726 0.82327108 0.781432   0.66659626 0.79215567\n",
      " 0.64118045 0.68614368 0.6600101  0.65203071 0.58642235 0.56586165\n",
      " 0.66089672 0.65515493 0.70970192 0.66452756 0.69437638 0.69218097\n",
      " 0.63569196 0.65266396 0.63780291 0.72671617 0.71388155 0.74191506\n",
      " 0.75002104 0.77222829 0.8304905  0.81942913 0.82897068 0.81254741\n",
      " 0.78776485 0.75162538 0.78426074 0.77974327 0.81326518 0.81410961\n",
      " 0.79473098 0.83336149 0.85898834 0.83901882 0.85628639 0.87486273\n",
      " 0.887824   0.90095407 0.92793208 0.94853499 0.93333612 0.91746171\n",
      " 0.92544118 0.91771503 0.94832382 0.94064006 0.96635143 0.95630329\n",
      " 0.964916   0.95579668 0.95250016 0.95150912 0.948107   0.9440251\n",
      " 0.94022638 0.9372018  0.93519032 0.93428379]\n",
      "8 day output [[0.9344732]]\n",
      "9 day input [0.93304055 0.94950596 0.96424048 0.95512115 0.95989192 0.96635143\n",
      " 0.96246722 0.92295027 0.95984967 0.98792529 0.985941   0.92531452\n",
      " 0.92172589 0.96474709 0.97572406 0.99159833 0.96972891 0.97614615\n",
      " 0.96795564 1.         0.9901629  0.99050072 0.96538035 0.98488552\n",
      " 0.97086877 0.94025997 0.87748029 0.83483906 0.85413317 0.77336815\n",
      " 0.77269263 0.88014011 0.8400743  0.89673217 0.85527317 0.83884991\n",
      " 0.74233726 0.82327108 0.781432   0.66659626 0.79215567 0.64118045\n",
      " 0.68614368 0.6600101  0.65203071 0.58642235 0.56586165 0.66089672\n",
      " 0.65515493 0.70970192 0.66452756 0.69437638 0.69218097 0.63569196\n",
      " 0.65266396 0.63780291 0.72671617 0.71388155 0.74191506 0.75002104\n",
      " 0.77222829 0.8304905  0.81942913 0.82897068 0.81254741 0.78776485\n",
      " 0.75162538 0.78426074 0.77974327 0.81326518 0.81410961 0.79473098\n",
      " 0.83336149 0.85898834 0.83901882 0.85628639 0.87486273 0.887824\n",
      " 0.90095407 0.92793208 0.94853499 0.93333612 0.91746171 0.92544118\n",
      " 0.91771503 0.94832382 0.94064006 0.96635143 0.95630329 0.964916\n",
      " 0.95579668 0.95250016 0.95150912 0.948107   0.9440251  0.94022638\n"
     ]
    },
    {
     "name": "stdout",
     "output_type": "stream",
     "text": [
      " 0.9372018  0.93519032 0.93428379 0.93447322]\n",
      "9 day output [[0.9356708]]\n",
      "10 day input [0.94950596 0.96424048 0.95512115 0.95989192 0.96635143 0.96246722\n",
      " 0.92295027 0.95984967 0.98792529 0.985941   0.92531452 0.92172589\n",
      " 0.96474709 0.97572406 0.99159833 0.96972891 0.97614615 0.96795564\n",
      " 1.         0.9901629  0.99050072 0.96538035 0.98488552 0.97086877\n",
      " 0.94025997 0.87748029 0.83483906 0.85413317 0.77336815 0.77269263\n",
      " 0.88014011 0.8400743  0.89673217 0.85527317 0.83884991 0.74233726\n",
      " 0.82327108 0.781432   0.66659626 0.79215567 0.64118045 0.68614368\n",
      " 0.6600101  0.65203071 0.58642235 0.56586165 0.66089672 0.65515493\n",
      " 0.70970192 0.66452756 0.69437638 0.69218097 0.63569196 0.65266396\n",
      " 0.63780291 0.72671617 0.71388155 0.74191506 0.75002104 0.77222829\n",
      " 0.8304905  0.81942913 0.82897068 0.81254741 0.78776485 0.75162538\n",
      " 0.78426074 0.77974327 0.81326518 0.81410961 0.79473098 0.83336149\n",
      " 0.85898834 0.83901882 0.85628639 0.87486273 0.887824   0.90095407\n",
      " 0.92793208 0.94853499 0.93333612 0.91746171 0.92544118 0.91771503\n",
      " 0.94832382 0.94064006 0.96635143 0.95630329 0.964916   0.95579668\n",
      " 0.95250016 0.95150912 0.948107   0.9440251  0.94022638 0.9372018\n",
      " 0.93519032 0.93428379 0.93447322 0.93567079]\n",
      "10 day output [[0.9377298]]\n",
      "11 day input [0.96424048 0.95512115 0.95989192 0.96635143 0.96246722 0.92295027\n",
      " 0.95984967 0.98792529 0.985941   0.92531452 0.92172589 0.96474709\n",
      " 0.97572406 0.99159833 0.96972891 0.97614615 0.96795564 1.\n",
      " 0.9901629  0.99050072 0.96538035 0.98488552 0.97086877 0.94025997\n",
      " 0.87748029 0.83483906 0.85413317 0.77336815 0.77269263 0.88014011\n",
      " 0.8400743  0.89673217 0.85527317 0.83884991 0.74233726 0.82327108\n",
      " 0.781432   0.66659626 0.79215567 0.64118045 0.68614368 0.6600101\n",
      " 0.65203071 0.58642235 0.56586165 0.66089672 0.65515493 0.70970192\n",
      " 0.66452756 0.69437638 0.69218097 0.63569196 0.65266396 0.63780291\n",
      " 0.72671617 0.71388155 0.74191506 0.75002104 0.77222829 0.8304905\n",
      " 0.81942913 0.82897068 0.81254741 0.78776485 0.75162538 0.78426074\n",
      " 0.77974327 0.81326518 0.81410961 0.79473098 0.83336149 0.85898834\n",
      " 0.83901882 0.85628639 0.87486273 0.887824   0.90095407 0.92793208\n",
      " 0.94853499 0.93333612 0.91746171 0.92544118 0.91771503 0.94832382\n",
      " 0.94064006 0.96635143 0.95630329 0.964916   0.95579668 0.95250016\n",
      " 0.95150912 0.948107   0.9440251  0.94022638 0.9372018  0.93519032\n",
      " 0.93428379 0.93447322 0.93567079 0.93772978]\n",
      "11 day output [[0.9404648]]\n",
      "12 day input [0.95512115 0.95989192 0.96635143 0.96246722 0.92295027 0.95984967\n",
      " 0.98792529 0.985941   0.92531452 0.92172589 0.96474709 0.97572406\n",
      " 0.99159833 0.96972891 0.97614615 0.96795564 1.         0.9901629\n",
      " 0.99050072 0.96538035 0.98488552 0.97086877 0.94025997 0.87748029\n",
      " 0.83483906 0.85413317 0.77336815 0.77269263 0.88014011 0.8400743\n",
      " 0.89673217 0.85527317 0.83884991 0.74233726 0.82327108 0.781432\n",
      " 0.66659626 0.79215567 0.64118045 0.68614368 0.6600101  0.65203071\n",
      " 0.58642235 0.56586165 0.66089672 0.65515493 0.70970192 0.66452756\n",
      " 0.69437638 0.69218097 0.63569196 0.65266396 0.63780291 0.72671617\n",
      " 0.71388155 0.74191506 0.75002104 0.77222829 0.8304905  0.81942913\n",
      " 0.82897068 0.81254741 0.78776485 0.75162538 0.78426074 0.77974327\n",
      " 0.81326518 0.81410961 0.79473098 0.83336149 0.85898834 0.83901882\n",
      " 0.85628639 0.87486273 0.887824   0.90095407 0.92793208 0.94853499\n",
      " 0.93333612 0.91746171 0.92544118 0.91771503 0.94832382 0.94064006\n",
      " 0.96635143 0.95630329 0.964916   0.95579668 0.95250016 0.95150912\n",
      " 0.948107   0.9440251  0.94022638 0.9372018  0.93519032 0.93428379\n",
      " 0.93447322 0.93567079 0.93772978 0.94046479]\n",
      "12 day output [[0.9436748]]\n",
      "13 day input [0.95989192 0.96635143 0.96246722 0.92295027 0.95984967 0.98792529\n",
      " 0.985941   0.92531452 0.92172589 0.96474709 0.97572406 0.99159833\n",
      " 0.96972891 0.97614615 0.96795564 1.         0.9901629  0.99050072\n",
      " 0.96538035 0.98488552 0.97086877 0.94025997 0.87748029 0.83483906\n",
      " 0.85413317 0.77336815 0.77269263 0.88014011 0.8400743  0.89673217\n",
      " 0.85527317 0.83884991 0.74233726 0.82327108 0.781432   0.66659626\n",
      " 0.79215567 0.64118045 0.68614368 0.6600101  0.65203071 0.58642235\n",
      " 0.56586165 0.66089672 0.65515493 0.70970192 0.66452756 0.69437638\n",
      " 0.69218097 0.63569196 0.65266396 0.63780291 0.72671617 0.71388155\n",
      " 0.74191506 0.75002104 0.77222829 0.8304905  0.81942913 0.82897068\n",
      " 0.81254741 0.78776485 0.75162538 0.78426074 0.77974327 0.81326518\n",
      " 0.81410961 0.79473098 0.83336149 0.85898834 0.83901882 0.85628639\n",
      " 0.87486273 0.887824   0.90095407 0.92793208 0.94853499 0.93333612\n",
      " 0.91746171 0.92544118 0.91771503 0.94832382 0.94064006 0.96635143\n",
      " 0.95630329 0.964916   0.95579668 0.95250016 0.95150912 0.948107\n",
      " 0.9440251  0.94022638 0.9372018  0.93519032 0.93428379 0.93447322\n",
      " 0.93567079 0.93772978 0.94046479 0.9436748 ]\n",
      "13 day output [[0.9471637]]\n",
      "14 day input [0.96635143 0.96246722 0.92295027 0.95984967 0.98792529 0.985941\n",
      " 0.92531452 0.92172589 0.96474709 0.97572406 0.99159833 0.96972891\n",
      " 0.97614615 0.96795564 1.         0.9901629  0.99050072 0.96538035\n",
      " 0.98488552 0.97086877 0.94025997 0.87748029 0.83483906 0.85413317\n",
      " 0.77336815 0.77269263 0.88014011 0.8400743  0.89673217 0.85527317\n",
      " 0.83884991 0.74233726 0.82327108 0.781432   0.66659626 0.79215567\n",
      " 0.64118045 0.68614368 0.6600101  0.65203071 0.58642235 0.56586165\n",
      " 0.66089672 0.65515493 0.70970192 0.66452756 0.69437638 0.69218097\n",
      " 0.63569196 0.65266396 0.63780291 0.72671617 0.71388155 0.74191506\n",
      " 0.75002104 0.77222829 0.8304905  0.81942913 0.82897068 0.81254741\n",
      " 0.78776485 0.75162538 0.78426074 0.77974327 0.81326518 0.81410961\n",
      " 0.79473098 0.83336149 0.85898834 0.83901882 0.85628639 0.87486273\n",
      " 0.887824   0.90095407 0.92793208 0.94853499 0.93333612 0.91746171\n",
      " 0.92544118 0.91771503 0.94832382 0.94064006 0.96635143 0.95630329\n",
      " 0.964916   0.95579668 0.95250016 0.95150912 0.948107   0.9440251\n",
      " 0.94022638 0.9372018  0.93519032 0.93428379 0.93447322 0.93567079\n",
      " 0.93772978 0.94046479 0.9436748  0.9471637 ]\n",
      "14 day output [[0.9507551]]\n",
      "15 day input [0.96246722 0.92295027 0.95984967 0.98792529 0.985941   0.92531452\n",
      " 0.92172589 0.96474709 0.97572406 0.99159833 0.96972891 0.97614615\n",
      " 0.96795564 1.         0.9901629  0.99050072 0.96538035 0.98488552\n",
      " 0.97086877 0.94025997 0.87748029 0.83483906 0.85413317 0.77336815\n",
      " 0.77269263 0.88014011 0.8400743  0.89673217 0.85527317 0.83884991\n",
      " 0.74233726 0.82327108 0.781432   0.66659626 0.79215567 0.64118045\n",
      " 0.68614368 0.6600101  0.65203071 0.58642235 0.56586165 0.66089672\n",
      " 0.65515493 0.70970192 0.66452756 0.69437638 0.69218097 0.63569196\n",
      " 0.65266396 0.63780291 0.72671617 0.71388155 0.74191506 0.75002104\n",
      " 0.77222829 0.8304905  0.81942913 0.82897068 0.81254741 0.78776485\n",
      " 0.75162538 0.78426074 0.77974327 0.81326518 0.81410961 0.79473098\n",
      " 0.83336149 0.85898834 0.83901882 0.85628639 0.87486273 0.887824\n",
      " 0.90095407 0.92793208 0.94853499 0.93333612 0.91746171 0.92544118\n",
      " 0.91771503 0.94832382 0.94064006 0.96635143 0.95630329 0.964916\n",
      " 0.95579668 0.95250016 0.95150912 0.948107   0.9440251  0.94022638\n",
      " 0.9372018  0.93519032 0.93428379 0.93447322 0.93567079 0.93772978\n",
      " 0.94046479 0.9436748  0.9471637  0.95075512]\n",
      "15 day output [[0.9543042]]\n",
      "16 day input [0.92295027 0.95984967 0.98792529 0.985941   0.92531452 0.92172589\n",
      " 0.96474709 0.97572406 0.99159833 0.96972891 0.97614615 0.96795564\n",
      " 1.         0.9901629  0.99050072 0.96538035 0.98488552 0.97086877\n",
      " 0.94025997 0.87748029 0.83483906 0.85413317 0.77336815 0.77269263\n",
      " 0.88014011 0.8400743  0.89673217 0.85527317 0.83884991 0.74233726\n",
      " 0.82327108 0.781432   0.66659626 0.79215567 0.64118045 0.68614368\n",
      " 0.6600101  0.65203071 0.58642235 0.56586165 0.66089672 0.65515493\n",
      " 0.70970192 0.66452756 0.69437638 0.69218097 0.63569196 0.65266396\n",
      " 0.63780291 0.72671617 0.71388155 0.74191506 0.75002104 0.77222829\n",
      " 0.8304905  0.81942913 0.82897068 0.81254741 0.78776485 0.75162538\n",
      " 0.78426074 0.77974327 0.81326518 0.81410961 0.79473098 0.83336149\n",
      " 0.85898834 0.83901882 0.85628639 0.87486273 0.887824   0.90095407\n",
      " 0.92793208 0.94853499 0.93333612 0.91746171 0.92544118 0.91771503\n",
      " 0.94832382 0.94064006 0.96635143 0.95630329 0.964916   0.95579668\n",
      " 0.95250016 0.95150912 0.948107   0.9440251  0.94022638 0.9372018\n",
      " 0.93519032 0.93428379 0.93447322 0.93567079 0.93772978 0.94046479\n",
      " 0.9436748  0.9471637  0.95075512 0.95430422]\n",
      "16 day output [[0.9577042]]\n",
      "17 day input [0.95984967 0.98792529 0.985941   0.92531452 0.92172589 0.96474709\n",
      " 0.97572406 0.99159833 0.96972891 0.97614615 0.96795564 1.\n",
      " 0.9901629  0.99050072 0.96538035 0.98488552 0.97086877 0.94025997\n",
      " 0.87748029 0.83483906 0.85413317 0.77336815 0.77269263 0.88014011\n",
      " 0.8400743  0.89673217 0.85527317 0.83884991 0.74233726 0.82327108\n",
      " 0.781432   0.66659626 0.79215567 0.64118045 0.68614368 0.6600101\n",
      " 0.65203071 0.58642235 0.56586165 0.66089672 0.65515493 0.70970192\n",
      " 0.66452756 0.69437638 0.69218097 0.63569196 0.65266396 0.63780291\n",
      " 0.72671617 0.71388155 0.74191506 0.75002104 0.77222829 0.8304905\n",
      " 0.81942913 0.82897068 0.81254741 0.78776485 0.75162538 0.78426074\n",
      " 0.77974327 0.81326518 0.81410961 0.79473098 0.83336149 0.85898834\n",
      " 0.83901882 0.85628639 0.87486273 0.887824   0.90095407 0.92793208\n",
      " 0.94853499 0.93333612 0.91746171 0.92544118 0.91771503 0.94832382\n",
      " 0.94064006 0.96635143 0.95630329 0.964916   0.95579668 0.95250016\n",
      " 0.95150912 0.948107   0.9440251  0.94022638 0.9372018  0.93519032\n",
      " 0.93428379 0.93447322 0.93567079 0.93772978 0.94046479 0.9436748\n",
      " 0.9471637  0.95075512 0.95430422 0.95770419]\n",
      "17 day output [[0.96088696]]\n",
      "18 day input [0.98792529 0.985941   0.92531452 0.92172589 0.96474709 0.97572406\n",
      " 0.99159833 0.96972891 0.97614615 0.96795564 1.         0.9901629\n",
      " 0.99050072 0.96538035 0.98488552 0.97086877 0.94025997 0.87748029\n",
      " 0.83483906 0.85413317 0.77336815 0.77269263 0.88014011 0.8400743\n",
      " 0.89673217 0.85527317 0.83884991 0.74233726 0.82327108 0.781432\n",
      " 0.66659626 0.79215567 0.64118045 0.68614368 0.6600101  0.65203071\n",
      " 0.58642235 0.56586165 0.66089672 0.65515493 0.70970192 0.66452756\n",
      " 0.69437638 0.69218097 0.63569196 0.65266396 0.63780291 0.72671617\n",
      " 0.71388155 0.74191506 0.75002104 0.77222829 0.8304905  0.81942913\n",
      " 0.82897068 0.81254741 0.78776485 0.75162538 0.78426074 0.77974327\n",
      " 0.81326518 0.81410961 0.79473098 0.83336149 0.85898834 0.83901882\n",
      " 0.85628639 0.87486273 0.887824   0.90095407 0.92793208 0.94853499\n",
      " 0.93333612 0.91746171 0.92544118 0.91771503 0.94832382 0.94064006\n",
      " 0.96635143 0.95630329 0.964916   0.95579668 0.95250016 0.95150912\n",
      " 0.948107   0.9440251  0.94022638 0.9372018  0.93519032 0.93428379\n",
      " 0.93447322 0.93567079 0.93772978 0.94046479 0.9436748  0.9471637\n",
      " 0.95075512 0.95430422 0.95770419 0.96088696]\n",
      "18 day output [[0.9638186]]\n",
      "19 day input [0.985941   0.92531452 0.92172589 0.96474709 0.97572406 0.99159833\n",
      " 0.96972891 0.97614615 0.96795564 1.         0.9901629  0.99050072\n",
      " 0.96538035 0.98488552 0.97086877 0.94025997 0.87748029 0.83483906\n",
      " 0.85413317 0.77336815 0.77269263 0.88014011 0.8400743  0.89673217\n",
      " 0.85527317 0.83884991 0.74233726 0.82327108 0.781432   0.66659626\n",
      " 0.79215567 0.64118045 0.68614368 0.6600101  0.65203071 0.58642235\n",
      " 0.56586165 0.66089672 0.65515493 0.70970192 0.66452756 0.69437638\n",
      " 0.69218097 0.63569196 0.65266396 0.63780291 0.72671617 0.71388155\n",
      " 0.74191506 0.75002104 0.77222829 0.8304905  0.81942913 0.82897068\n",
      " 0.81254741 0.78776485 0.75162538 0.78426074 0.77974327 0.81326518\n",
      " 0.81410961 0.79473098 0.83336149 0.85898834 0.83901882 0.85628639\n",
      " 0.87486273 0.887824   0.90095407 0.92793208 0.94853499 0.93333612\n",
      " 0.91746171 0.92544118 0.91771503 0.94832382 0.94064006 0.96635143\n",
      " 0.95630329 0.964916   0.95579668 0.95250016 0.95150912 0.948107\n",
      " 0.9440251  0.94022638 0.9372018  0.93519032 0.93428379 0.93447322\n",
      " 0.93567079 0.93772978 0.94046479 0.9436748  0.9471637  0.95075512\n",
      " 0.95430422 0.95770419 0.96088696 0.96381861]\n",
      "19 day output [[0.9664962]]\n",
      "20 day input [0.92531452 0.92172589 0.96474709 0.97572406 0.99159833 0.96972891\n",
      " 0.97614615 0.96795564 1.         0.9901629  0.99050072 0.96538035\n",
      " 0.98488552 0.97086877 0.94025997 0.87748029 0.83483906 0.85413317\n",
      " 0.77336815 0.77269263 0.88014011 0.8400743  0.89673217 0.85527317\n",
      " 0.83884991 0.74233726 0.82327108 0.781432   0.66659626 0.79215567\n",
      " 0.64118045 0.68614368 0.6600101  0.65203071 0.58642235 0.56586165\n",
      " 0.66089672 0.65515493 0.70970192 0.66452756 0.69437638 0.69218097\n",
      " 0.63569196 0.65266396 0.63780291 0.72671617 0.71388155 0.74191506\n",
      " 0.75002104 0.77222829 0.8304905  0.81942913 0.82897068 0.81254741\n",
      " 0.78776485 0.75162538 0.78426074 0.77974327 0.81326518 0.81410961\n",
      " 0.79473098 0.83336149 0.85898834 0.83901882 0.85628639 0.87486273\n",
      " 0.887824   0.90095407 0.92793208 0.94853499 0.93333612 0.91746171\n",
      " 0.92544118 0.91771503 0.94832382 0.94064006 0.96635143 0.95630329\n",
      " 0.964916   0.95579668 0.95250016 0.95150912 0.948107   0.9440251\n",
      " 0.94022638 0.9372018  0.93519032 0.93428379 0.93447322 0.93567079\n",
      " 0.93772978 0.94046479 0.9436748  0.9471637  0.95075512 0.95430422\n",
      " 0.95770419 0.96088696 0.96381861 0.96649623]\n"
     ]
    },
    {
     "name": "stdout",
     "output_type": "stream",
     "text": [
      "20 day output [[0.96893984]]\n",
      "21 day input [0.92172589 0.96474709 0.97572406 0.99159833 0.96972891 0.97614615\n",
      " 0.96795564 1.         0.9901629  0.99050072 0.96538035 0.98488552\n",
      " 0.97086877 0.94025997 0.87748029 0.83483906 0.85413317 0.77336815\n",
      " 0.77269263 0.88014011 0.8400743  0.89673217 0.85527317 0.83884991\n",
      " 0.74233726 0.82327108 0.781432   0.66659626 0.79215567 0.64118045\n",
      " 0.68614368 0.6600101  0.65203071 0.58642235 0.56586165 0.66089672\n",
      " 0.65515493 0.70970192 0.66452756 0.69437638 0.69218097 0.63569196\n",
      " 0.65266396 0.63780291 0.72671617 0.71388155 0.74191506 0.75002104\n",
      " 0.77222829 0.8304905  0.81942913 0.82897068 0.81254741 0.78776485\n",
      " 0.75162538 0.78426074 0.77974327 0.81326518 0.81410961 0.79473098\n",
      " 0.83336149 0.85898834 0.83901882 0.85628639 0.87486273 0.887824\n",
      " 0.90095407 0.92793208 0.94853499 0.93333612 0.91746171 0.92544118\n",
      " 0.91771503 0.94832382 0.94064006 0.96635143 0.95630329 0.964916\n",
      " 0.95579668 0.95250016 0.95150912 0.948107   0.9440251  0.94022638\n",
      " 0.9372018  0.93519032 0.93428379 0.93447322 0.93567079 0.93772978\n",
      " 0.94046479 0.9436748  0.9471637  0.95075512 0.95430422 0.95770419\n",
      " 0.96088696 0.96381861 0.96649623 0.96893984]\n",
      "21 day output [[0.9711842]]\n",
      "22 day input [0.96474709 0.97572406 0.99159833 0.96972891 0.97614615 0.96795564\n",
      " 1.         0.9901629  0.99050072 0.96538035 0.98488552 0.97086877\n",
      " 0.94025997 0.87748029 0.83483906 0.85413317 0.77336815 0.77269263\n",
      " 0.88014011 0.8400743  0.89673217 0.85527317 0.83884991 0.74233726\n",
      " 0.82327108 0.781432   0.66659626 0.79215567 0.64118045 0.68614368\n",
      " 0.6600101  0.65203071 0.58642235 0.56586165 0.66089672 0.65515493\n",
      " 0.70970192 0.66452756 0.69437638 0.69218097 0.63569196 0.65266396\n",
      " 0.63780291 0.72671617 0.71388155 0.74191506 0.75002104 0.77222829\n",
      " 0.8304905  0.81942913 0.82897068 0.81254741 0.78776485 0.75162538\n",
      " 0.78426074 0.77974327 0.81326518 0.81410961 0.79473098 0.83336149\n",
      " 0.85898834 0.83901882 0.85628639 0.87486273 0.887824   0.90095407\n",
      " 0.92793208 0.94853499 0.93333612 0.91746171 0.92544118 0.91771503\n",
      " 0.94832382 0.94064006 0.96635143 0.95630329 0.964916   0.95579668\n",
      " 0.95250016 0.95150912 0.948107   0.9440251  0.94022638 0.9372018\n",
      " 0.93519032 0.93428379 0.93447322 0.93567079 0.93772978 0.94046479\n",
      " 0.9436748  0.9471637  0.95075512 0.95430422 0.95770419 0.96088696\n",
      " 0.96381861 0.96649623 0.96893984 0.97118419]\n",
      "22 day output [[0.97327256]]\n",
      "23 day input [0.97572406 0.99159833 0.96972891 0.97614615 0.96795564 1.\n",
      " 0.9901629  0.99050072 0.96538035 0.98488552 0.97086877 0.94025997\n",
      " 0.87748029 0.83483906 0.85413317 0.77336815 0.77269263 0.88014011\n",
      " 0.8400743  0.89673217 0.85527317 0.83884991 0.74233726 0.82327108\n",
      " 0.781432   0.66659626 0.79215567 0.64118045 0.68614368 0.6600101\n",
      " 0.65203071 0.58642235 0.56586165 0.66089672 0.65515493 0.70970192\n",
      " 0.66452756 0.69437638 0.69218097 0.63569196 0.65266396 0.63780291\n",
      " 0.72671617 0.71388155 0.74191506 0.75002104 0.77222829 0.8304905\n",
      " 0.81942913 0.82897068 0.81254741 0.78776485 0.75162538 0.78426074\n",
      " 0.77974327 0.81326518 0.81410961 0.79473098 0.83336149 0.85898834\n",
      " 0.83901882 0.85628639 0.87486273 0.887824   0.90095407 0.92793208\n",
      " 0.94853499 0.93333612 0.91746171 0.92544118 0.91771503 0.94832382\n",
      " 0.94064006 0.96635143 0.95630329 0.964916   0.95579668 0.95250016\n",
      " 0.95150912 0.948107   0.9440251  0.94022638 0.9372018  0.93519032\n",
      " 0.93428379 0.93447322 0.93567079 0.93772978 0.94046479 0.9436748\n",
      " 0.9471637  0.95075512 0.95430422 0.95770419 0.96088696 0.96381861\n",
      " 0.96649623 0.96893984 0.97118419 0.97327256]\n",
      "23 day output [[0.9752502]]\n",
      "24 day input [0.99159833 0.96972891 0.97614615 0.96795564 1.         0.9901629\n",
      " 0.99050072 0.96538035 0.98488552 0.97086877 0.94025997 0.87748029\n",
      " 0.83483906 0.85413317 0.77336815 0.77269263 0.88014011 0.8400743\n",
      " 0.89673217 0.85527317 0.83884991 0.74233726 0.82327108 0.781432\n",
      " 0.66659626 0.79215567 0.64118045 0.68614368 0.6600101  0.65203071\n",
      " 0.58642235 0.56586165 0.66089672 0.65515493 0.70970192 0.66452756\n",
      " 0.69437638 0.69218097 0.63569196 0.65266396 0.63780291 0.72671617\n",
      " 0.71388155 0.74191506 0.75002104 0.77222829 0.8304905  0.81942913\n",
      " 0.82897068 0.81254741 0.78776485 0.75162538 0.78426074 0.77974327\n",
      " 0.81326518 0.81410961 0.79473098 0.83336149 0.85898834 0.83901882\n",
      " 0.85628639 0.87486273 0.887824   0.90095407 0.92793208 0.94853499\n",
      " 0.93333612 0.91746171 0.92544118 0.91771503 0.94832382 0.94064006\n",
      " 0.96635143 0.95630329 0.964916   0.95579668 0.95250016 0.95150912\n",
      " 0.948107   0.9440251  0.94022638 0.9372018  0.93519032 0.93428379\n",
      " 0.93447322 0.93567079 0.93772978 0.94046479 0.9436748  0.9471637\n",
      " 0.95075512 0.95430422 0.95770419 0.96088696 0.96381861 0.96649623\n",
      " 0.96893984 0.97118419 0.97327256 0.97525018]\n",
      "24 day output [[0.97715986]]\n",
      "25 day input [0.96972891 0.97614615 0.96795564 1.         0.9901629  0.99050072\n",
      " 0.96538035 0.98488552 0.97086877 0.94025997 0.87748029 0.83483906\n",
      " 0.85413317 0.77336815 0.77269263 0.88014011 0.8400743  0.89673217\n",
      " 0.85527317 0.83884991 0.74233726 0.82327108 0.781432   0.66659626\n",
      " 0.79215567 0.64118045 0.68614368 0.6600101  0.65203071 0.58642235\n",
      " 0.56586165 0.66089672 0.65515493 0.70970192 0.66452756 0.69437638\n",
      " 0.69218097 0.63569196 0.65266396 0.63780291 0.72671617 0.71388155\n",
      " 0.74191506 0.75002104 0.77222829 0.8304905  0.81942913 0.82897068\n",
      " 0.81254741 0.78776485 0.75162538 0.78426074 0.77974327 0.81326518\n",
      " 0.81410961 0.79473098 0.83336149 0.85898834 0.83901882 0.85628639\n",
      " 0.87486273 0.887824   0.90095407 0.92793208 0.94853499 0.93333612\n",
      " 0.91746171 0.92544118 0.91771503 0.94832382 0.94064006 0.96635143\n",
      " 0.95630329 0.964916   0.95579668 0.95250016 0.95150912 0.948107\n",
      " 0.9440251  0.94022638 0.9372018  0.93519032 0.93428379 0.93447322\n",
      " 0.93567079 0.93772978 0.94046479 0.9436748  0.9471637  0.95075512\n",
      " 0.95430422 0.95770419 0.96088696 0.96381861 0.96649623 0.96893984\n",
      " 0.97118419 0.97327256 0.97525018 0.97715986]\n",
      "25 day output [[0.9790385]]\n",
      "26 day input [0.97614615 0.96795564 1.         0.9901629  0.99050072 0.96538035\n",
      " 0.98488552 0.97086877 0.94025997 0.87748029 0.83483906 0.85413317\n",
      " 0.77336815 0.77269263 0.88014011 0.8400743  0.89673217 0.85527317\n",
      " 0.83884991 0.74233726 0.82327108 0.781432   0.66659626 0.79215567\n",
      " 0.64118045 0.68614368 0.6600101  0.65203071 0.58642235 0.56586165\n",
      " 0.66089672 0.65515493 0.70970192 0.66452756 0.69437638 0.69218097\n",
      " 0.63569196 0.65266396 0.63780291 0.72671617 0.71388155 0.74191506\n",
      " 0.75002104 0.77222829 0.8304905  0.81942913 0.82897068 0.81254741\n",
      " 0.78776485 0.75162538 0.78426074 0.77974327 0.81326518 0.81410961\n",
      " 0.79473098 0.83336149 0.85898834 0.83901882 0.85628639 0.87486273\n",
      " 0.887824   0.90095407 0.92793208 0.94853499 0.93333612 0.91746171\n",
      " 0.92544118 0.91771503 0.94832382 0.94064006 0.96635143 0.95630329\n",
      " 0.964916   0.95579668 0.95250016 0.95150912 0.948107   0.9440251\n",
      " 0.94022638 0.9372018  0.93519032 0.93428379 0.93447322 0.93567079\n",
      " 0.93772978 0.94046479 0.9436748  0.9471637  0.95075512 0.95430422\n",
      " 0.95770419 0.96088696 0.96381861 0.96649623 0.96893984 0.97118419\n",
      " 0.97327256 0.97525018 0.97715986 0.97903848]\n",
      "26 day output [[0.98091453]]\n",
      "27 day input [0.96795564 1.         0.9901629  0.99050072 0.96538035 0.98488552\n",
      " 0.97086877 0.94025997 0.87748029 0.83483906 0.85413317 0.77336815\n",
      " 0.77269263 0.88014011 0.8400743  0.89673217 0.85527317 0.83884991\n",
      " 0.74233726 0.82327108 0.781432   0.66659626 0.79215567 0.64118045\n",
      " 0.68614368 0.6600101  0.65203071 0.58642235 0.56586165 0.66089672\n",
      " 0.65515493 0.70970192 0.66452756 0.69437638 0.69218097 0.63569196\n",
      " 0.65266396 0.63780291 0.72671617 0.71388155 0.74191506 0.75002104\n",
      " 0.77222829 0.8304905  0.81942913 0.82897068 0.81254741 0.78776485\n",
      " 0.75162538 0.78426074 0.77974327 0.81326518 0.81410961 0.79473098\n",
      " 0.83336149 0.85898834 0.83901882 0.85628639 0.87486273 0.887824\n",
      " 0.90095407 0.92793208 0.94853499 0.93333612 0.91746171 0.92544118\n",
      " 0.91771503 0.94832382 0.94064006 0.96635143 0.95630329 0.964916\n",
      " 0.95579668 0.95250016 0.95150912 0.948107   0.9440251  0.94022638\n",
      " 0.9372018  0.93519032 0.93428379 0.93447322 0.93567079 0.93772978\n",
      " 0.94046479 0.9436748  0.9471637  0.95075512 0.95430422 0.95770419\n",
      " 0.96088696 0.96381861 0.96649623 0.96893984 0.97118419 0.97327256\n",
      " 0.97525018 0.97715986 0.97903848 0.98091453]\n",
      "27 day output [[0.9828068]]\n",
      "28 day input [1.         0.9901629  0.99050072 0.96538035 0.98488552 0.97086877\n",
      " 0.94025997 0.87748029 0.83483906 0.85413317 0.77336815 0.77269263\n",
      " 0.88014011 0.8400743  0.89673217 0.85527317 0.83884991 0.74233726\n",
      " 0.82327108 0.781432   0.66659626 0.79215567 0.64118045 0.68614368\n",
      " 0.6600101  0.65203071 0.58642235 0.56586165 0.66089672 0.65515493\n",
      " 0.70970192 0.66452756 0.69437638 0.69218097 0.63569196 0.65266396\n",
      " 0.63780291 0.72671617 0.71388155 0.74191506 0.75002104 0.77222829\n",
      " 0.8304905  0.81942913 0.82897068 0.81254741 0.78776485 0.75162538\n",
      " 0.78426074 0.77974327 0.81326518 0.81410961 0.79473098 0.83336149\n",
      " 0.85898834 0.83901882 0.85628639 0.87486273 0.887824   0.90095407\n",
      " 0.92793208 0.94853499 0.93333612 0.91746171 0.92544118 0.91771503\n",
      " 0.94832382 0.94064006 0.96635143 0.95630329 0.964916   0.95579668\n",
      " 0.95250016 0.95150912 0.948107   0.9440251  0.94022638 0.9372018\n",
      " 0.93519032 0.93428379 0.93447322 0.93567079 0.93772978 0.94046479\n",
      " 0.9436748  0.9471637  0.95075512 0.95430422 0.95770419 0.96088696\n",
      " 0.96381861 0.96649623 0.96893984 0.97118419 0.97327256 0.97525018\n",
      " 0.97715986 0.97903848 0.98091453 0.9828068 ]\n",
      "28 day output [[0.9847265]]\n",
      "29 day input [0.9901629  0.99050072 0.96538035 0.98488552 0.97086877 0.94025997\n",
      " 0.87748029 0.83483906 0.85413317 0.77336815 0.77269263 0.88014011\n",
      " 0.8400743  0.89673217 0.85527317 0.83884991 0.74233726 0.82327108\n",
      " 0.781432   0.66659626 0.79215567 0.64118045 0.68614368 0.6600101\n",
      " 0.65203071 0.58642235 0.56586165 0.66089672 0.65515493 0.70970192\n",
      " 0.66452756 0.69437638 0.69218097 0.63569196 0.65266396 0.63780291\n",
      " 0.72671617 0.71388155 0.74191506 0.75002104 0.77222829 0.8304905\n",
      " 0.81942913 0.82897068 0.81254741 0.78776485 0.75162538 0.78426074\n",
      " 0.77974327 0.81326518 0.81410961 0.79473098 0.83336149 0.85898834\n",
      " 0.83901882 0.85628639 0.87486273 0.887824   0.90095407 0.92793208\n",
      " 0.94853499 0.93333612 0.91746171 0.92544118 0.91771503 0.94832382\n",
      " 0.94064006 0.96635143 0.95630329 0.964916   0.95579668 0.95250016\n",
      " 0.95150912 0.948107   0.9440251  0.94022638 0.9372018  0.93519032\n",
      " 0.93428379 0.93447322 0.93567079 0.93772978 0.94046479 0.9436748\n",
      " 0.9471637  0.95075512 0.95430422 0.95770419 0.96088696 0.96381861\n",
      " 0.96649623 0.96893984 0.97118419 0.97327256 0.97525018 0.97715986\n",
      " 0.97903848 0.98091453 0.9828068  0.98472649]\n",
      "29 day output [[0.9866758]]\n",
      "[[0.9525001645088196], [0.9515091180801392], [0.9481070041656494], [0.9440250992774963], [0.9402263760566711], [0.9372017979621887], [0.9351903200149536], [0.9342837929725647], [0.9344732165336609], [0.935670793056488], [0.9377297759056091], [0.9404647946357727], [0.9436748027801514], [0.9471637010574341], [0.9507551193237305], [0.9543042182922363], [0.9577041864395142], [0.9608869552612305], [0.9638186097145081], [0.9664962291717529], [0.9689398407936096], [0.9711841940879822], [0.9732725620269775], [0.9752501845359802], [0.977159857749939], [0.9790384769439697], [0.9809145331382751], [0.9828068017959595], [0.9847264885902405], [0.9866757988929749]]\n"
     ]
    }
   ],
   "source": [
    "from numpy import array\n",
    "\n",
    "lst_output=[]\n",
    "n_steps=100\n",
    "i=0\n",
    "while(i<30):\n",
    "    \n",
    "    if(len(temp_input)>100):\n",
    "        #print(temp_input)\n",
    "        x_input=np.array(temp_input[1:])\n",
    "        print(\"{} day input {}\".format(i,x_input))\n",
    "        x_input=x_input.reshape(1,-1)\n",
    "        x_input = x_input.reshape((1, n_steps, 1))\n",
    "        #print(x_input)\n",
    "        yhat = model.predict(x_input, verbose=0)\n",
    "        print(\"{} day output {}\".format(i,yhat))\n",
    "        temp_input.extend(yhat[0].tolist())\n",
    "        temp_input=temp_input[1:]\n",
    "        #print(temp_input)\n",
    "        lst_output.extend(yhat.tolist())\n",
    "        i=i+1\n",
    "    else:\n",
    "        x_input = x_input.reshape((1, n_steps,1))\n",
    "        yhat = model.predict(x_input, verbose=0)\n",
    "        print(yhat[0])\n",
    "        temp_input.extend(yhat[0].tolist())\n",
    "        print(len(temp_input))\n",
    "        lst_output.extend(yhat.tolist())\n",
    "        i=i+1\n",
    "    \n",
    "\n",
    "print(lst_output)"
   ]
  },
  {
   "cell_type": "code",
   "execution_count": 38,
   "metadata": {},
   "outputs": [],
   "source": [
    "day_new=np.arange(1,101)\n",
    "day_pred=np.arange(101,131)"
   ]
  },
  {
   "cell_type": "code",
   "execution_count": 39,
   "metadata": {},
   "outputs": [
    {
     "data": {
      "text/plain": [
       "1259"
      ]
     },
     "execution_count": 39,
     "metadata": {},
     "output_type": "execute_result"
    }
   ],
   "source": [
    "len(df1)"
   ]
  },
  {
   "cell_type": "code",
   "execution_count": 40,
   "metadata": {},
   "outputs": [
    {
     "data": {
      "text/plain": [
       "30"
      ]
     },
     "execution_count": 40,
     "metadata": {},
     "output_type": "execute_result"
    }
   ],
   "source": [
    "len(lst_output)"
   ]
  },
  {
   "cell_type": "code",
   "execution_count": 41,
   "metadata": {},
   "outputs": [
    {
     "data": {
      "text/plain": [
       "[<matplotlib.lines.Line2D at 0x1ef7d98d040>]"
      ]
     },
     "execution_count": 41,
     "metadata": {},
     "output_type": "execute_result"
    },
    {
     "data": {
      "image/png": "[encoded data removed]",
      "text/plain": [
       "<Figure size 432x288 with 1 Axes>"
      ]
     },
     "metadata": {
      "needs_background": "light"
     },
     "output_type": "display_data"
    }
   ],
   "source": [
    "plt.plot(day_new,sc.inverse_transform(df1[1159:]))\n",
    "plt.plot(day_pred,sc.inverse_transform(lst_output))"
   ]
  },
  {
   "cell_type": "code",
   "execution_count": 42,
   "metadata": {},
   "outputs": [
    {
     "data": {
      "text/plain": [
       "[<matplotlib.lines.Line2D at 0x1ef785cb190>]"
      ]
     },
     "execution_count": 42,
     "metadata": {},
     "output_type": "execute_result"
    },
    {
     "data": {
      "image/png": "[encoded data removed]",
      "text/plain": [
       "<Figure size 432x288 with 1 Axes>"
      ]
     },
     "metadata": {
      "needs_background": "light"
     },
     "output_type": "display_data"
    }
   ],
   "source": [
    "df3=df1.tolist()\n",
    "df3.extend(lst_output)\n",
    "plt.plot(df3[1200:])"
   ]
  },
  {
   "cell_type": "code",
   "execution_count": 43,
   "metadata": {},
   "outputs": [],
   "source": [
    "df3=sc.inverse_transform(df3).tolist()"
   ]
  },
  {
   "cell_type": "code",
   "execution_count": 44,
   "metadata": {},
   "outputs": [
    {
     "data": {
      "text/plain": [
       "[<matplotlib.lines.Line2D at 0x1ef7af73490>]"
      ]
     },
     "execution_count": 44,
     "metadata": {},
     "output_type": "execute_result"
    },
    {
     "data": {
      "image/png": "[encoded data removed]",
      "text/plain": [
       "<Figure size 432x288 with 1 Axes>"
      ]
     },
     "metadata": {
      "needs_background": "light"
     },
     "output_type": "display_data"
    }
   ],
   "source": [
    "plt.plot(df3)"
   ]
  },
  {
   "cell_type": "code",
   "execution_count": 45,
   "metadata": {},
   "outputs": [],
   "source": [
    "model.save(\"predict_model.h5\")"
   ]
  },
  {
   "cell_type": "code",
   "execution_count": null,
   "metadata": {},
   "outputs": [],
   "source": [
    "Create a model that reliably classifies traffic signs with convoluational neural network withtest set accuracy of 97.92%"
   ]
  }
 ],
 "metadata": {
  "kernelspec": {
   "display_name": "Python 3",
   "language": "python",
   "name": "python3"
  },
  "language_info": {
   "codemirror_mode": {
    "name": "ipython",
    "version": 3
   },
   "file_extension": ".py",
   "mimetype": "text/x-python",
   "name": "python",
   "nbconvert_exporter": "python",
   "pygments_lexer": "ipython3",
   "version": "3.8.3"
  }
 },
 "nbformat": 4,
 "nbformat_minor": 4
}
