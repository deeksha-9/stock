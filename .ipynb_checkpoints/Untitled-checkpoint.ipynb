{
 "cells": [
  {
   "cell_type": "code",
   "execution_count": 3,
   "metadata": {},
   "outputs": [],
   "source": [
    "import pandas as pd\n",
    "import numpy as np\n",
    "import matplotlib.pyplot as plt\n",
    "import datetime"
   ]
  },
  {
   "cell_type": "code",
   "execution_count": 25,
   "metadata": {},
   "outputs": [],
   "source": [
    "import warnings\n",
    "warnings.filterwarnings('ignore')"
   ]
  },
  {
   "cell_type": "code",
   "execution_count": 26,
   "metadata": {},
   "outputs": [],
   "source": [
    "df = pd.read_csv('Train.csv',index_col = 'Date',parse_dates = True)"
   ]
  },
  {
   "cell_type": "code",
   "execution_count": 27,
   "metadata": {},
   "outputs": [
    {
     "data": {
      "text/html": [
       "<div>\n",
       "<style scoped>\n",
       "    .dataframe tbody tr th:only-of-type {\n",
       "        vertical-align: middle;\n",
       "    }\n",
       "\n",
       "    .dataframe tbody tr th {\n",
       "        vertical-align: top;\n",
       "    }\n",
       "\n",
       "    .dataframe thead th {\n",
       "        text-align: right;\n",
       "    }\n",
       "</style>\n",
       "<table border=\"1\" class=\"dataframe\">\n",
       "  <thead>\n",
       "    <tr style=\"text-align: right;\">\n",
       "      <th></th>\n",
       "      <th>Open</th>\n",
       "      <th>High</th>\n",
       "      <th>Low</th>\n",
       "      <th>Close</th>\n",
       "      <th>Volume</th>\n",
       "    </tr>\n",
       "    <tr>\n",
       "      <th>Date</th>\n",
       "      <th></th>\n",
       "      <th></th>\n",
       "      <th></th>\n",
       "      <th></th>\n",
       "      <th></th>\n",
       "    </tr>\n",
       "  </thead>\n",
       "  <tbody>\n",
       "    <tr>\n",
       "      <th>2012-01-03</th>\n",
       "      <td>325.25</td>\n",
       "      <td>332.83</td>\n",
       "      <td>324.97</td>\n",
       "      <td>663.59</td>\n",
       "      <td>7,380,500</td>\n",
       "    </tr>\n",
       "    <tr>\n",
       "      <th>2012-01-04</th>\n",
       "      <td>331.27</td>\n",
       "      <td>333.87</td>\n",
       "      <td>329.08</td>\n",
       "      <td>666.45</td>\n",
       "      <td>5,749,400</td>\n",
       "    </tr>\n",
       "    <tr>\n",
       "      <th>2012-01-05</th>\n",
       "      <td>329.83</td>\n",
       "      <td>330.75</td>\n",
       "      <td>326.89</td>\n",
       "      <td>657.21</td>\n",
       "      <td>6,590,300</td>\n",
       "    </tr>\n",
       "    <tr>\n",
       "      <th>2012-01-06</th>\n",
       "      <td>328.34</td>\n",
       "      <td>328.77</td>\n",
       "      <td>323.68</td>\n",
       "      <td>648.24</td>\n",
       "      <td>5,405,900</td>\n",
       "    </tr>\n",
       "    <tr>\n",
       "      <th>2012-01-09</th>\n",
       "      <td>322.04</td>\n",
       "      <td>322.29</td>\n",
       "      <td>309.46</td>\n",
       "      <td>620.76</td>\n",
       "      <td>11,688,800</td>\n",
       "    </tr>\n",
       "  </tbody>\n",
       "</table>\n",
       "</div>"
      ],
      "text/plain": [
       "              Open    High     Low   Close      Volume\n",
       "Date                                                  \n",
       "2012-01-03  325.25  332.83  324.97  663.59   7,380,500\n",
       "2012-01-04  331.27  333.87  329.08  666.45   5,749,400\n",
       "2012-01-05  329.83  330.75  326.89  657.21   6,590,300\n",
       "2012-01-06  328.34  328.77  323.68  648.24   5,405,900\n",
       "2012-01-09  322.04  322.29  309.46  620.76  11,688,800"
      ]
     },
     "execution_count": 27,
     "metadata": {},
     "output_type": "execute_result"
    }
   ],
   "source": [
    "df.head(5)"
   ]
  },
  {
   "cell_type": "code",
   "execution_count": 28,
   "metadata": {},
   "outputs": [
    {
     "data": {
      "text/plain": [
       "Open      False\n",
       "High      False\n",
       "Low       False\n",
       "Close     False\n",
       "Volume    False\n",
       "dtype: bool"
      ]
     },
     "execution_count": 28,
     "metadata": {},
     "output_type": "execute_result"
    }
   ],
   "source": [
    "df.isnull().any()"
   ]
  },
  {
   "cell_type": "code",
   "execution_count": 29,
   "metadata": {},
   "outputs": [
    {
     "data": {
      "text/plain": [
       "6290"
      ]
     },
     "execution_count": 29,
     "metadata": {},
     "output_type": "execute_result"
    }
   ],
   "source": [
    "df.size"
   ]
  },
  {
   "cell_type": "code",
   "execution_count": 30,
   "metadata": {},
   "outputs": [
    {
     "name": "stdout",
     "output_type": "stream",
     "text": [
      "<class 'pandas.core.frame.DataFrame'>\n",
      "DatetimeIndex: 1258 entries, 2012-01-03 to 2016-12-30\n",
      "Data columns (total 5 columns):\n",
      " #   Column  Non-Null Count  Dtype  \n",
      "---  ------  --------------  -----  \n",
      " 0   Open    1258 non-null   float64\n",
      " 1   High    1258 non-null   float64\n",
      " 2   Low     1258 non-null   float64\n",
      " 3   Close   1258 non-null   object \n",
      " 4   Volume  1258 non-null   object \n",
      "dtypes: float64(3), object(2)\n",
      "memory usage: 59.0+ KB\n"
     ]
    }
   ],
   "source": [
    "df.info()"
   ]
  },
  {
   "cell_type": "code",
   "execution_count": 31,
   "metadata": {},
   "outputs": [
    {
     "data": {
      "text/plain": [
       "<matplotlib.axes._subplots.AxesSubplot at 0x2a87ecfc130>"
      ]
     },
     "execution_count": 31,
     "metadata": {},
     "output_type": "execute_result"
    },
    {
     "data": {
      "image/png": "[encoded data removed]",
      "text/plain": [
       "<Figure size 1152x432 with 1 Axes>"
      ]
     },
     "metadata": {
      "needs_background": "light"
     },
     "output_type": "display_data"
    }
   ],
   "source": [
    "df['Open'].plot(figsize = (16,6))"
   ]
  },
  {
   "cell_type": "code",
   "execution_count": 32,
   "metadata": {},
   "outputs": [],
   "source": [
    "df['Close'] =df['Close'].str.replace(',','').astype(float)"
   ]
  },
  {
   "cell_type": "code",
   "execution_count": 33,
   "metadata": {},
   "outputs": [],
   "source": [
    "df['Volume'] =df['Volume'].str.replace(',','').astype(float)"
   ]
  },
  {
   "cell_type": "code",
   "execution_count": 35,
   "metadata": {},
   "outputs": [
    {
     "data": {
      "text/html": [
       "<div>\n",
       "<style scoped>\n",
       "    .dataframe tbody tr th:only-of-type {\n",
       "        vertical-align: middle;\n",
       "    }\n",
       "\n",
       "    .dataframe tbody tr th {\n",
       "        vertical-align: top;\n",
       "    }\n",
       "\n",
       "    .dataframe thead th {\n",
       "        text-align: right;\n",
       "    }\n",
       "</style>\n",
       "<table border=\"1\" class=\"dataframe\">\n",
       "  <thead>\n",
       "    <tr style=\"text-align: right;\">\n",
       "      <th></th>\n",
       "      <th>Open</th>\n",
       "      <th>High</th>\n",
       "      <th>Low</th>\n",
       "      <th>Close</th>\n",
       "      <th>Volume</th>\n",
       "    </tr>\n",
       "    <tr>\n",
       "      <th>Date</th>\n",
       "      <th></th>\n",
       "      <th></th>\n",
       "      <th></th>\n",
       "      <th></th>\n",
       "      <th></th>\n",
       "    </tr>\n",
       "  </thead>\n",
       "  <tbody>\n",
       "    <tr>\n",
       "      <th>2012-01-03</th>\n",
       "      <td>NaN</td>\n",
       "      <td>NaN</td>\n",
       "      <td>NaN</td>\n",
       "      <td>NaN</td>\n",
       "      <td>NaN</td>\n",
       "    </tr>\n",
       "    <tr>\n",
       "      <th>2012-01-04</th>\n",
       "      <td>NaN</td>\n",
       "      <td>NaN</td>\n",
       "      <td>NaN</td>\n",
       "      <td>NaN</td>\n",
       "      <td>NaN</td>\n",
       "    </tr>\n",
       "    <tr>\n",
       "      <th>2012-01-05</th>\n",
       "      <td>NaN</td>\n",
       "      <td>NaN</td>\n",
       "      <td>NaN</td>\n",
       "      <td>NaN</td>\n",
       "      <td>NaN</td>\n",
       "    </tr>\n",
       "    <tr>\n",
       "      <th>2012-01-06</th>\n",
       "      <td>NaN</td>\n",
       "      <td>NaN</td>\n",
       "      <td>NaN</td>\n",
       "      <td>NaN</td>\n",
       "      <td>NaN</td>\n",
       "    </tr>\n",
       "    <tr>\n",
       "      <th>2012-01-09</th>\n",
       "      <td>NaN</td>\n",
       "      <td>NaN</td>\n",
       "      <td>NaN</td>\n",
       "      <td>NaN</td>\n",
       "      <td>NaN</td>\n",
       "    </tr>\n",
       "    <tr>\n",
       "      <th>2012-01-10</th>\n",
       "      <td>NaN</td>\n",
       "      <td>NaN</td>\n",
       "      <td>NaN</td>\n",
       "      <td>NaN</td>\n",
       "      <td>NaN</td>\n",
       "    </tr>\n",
       "    <tr>\n",
       "      <th>2012-01-11</th>\n",
       "      <td>323.002857</td>\n",
       "      <td>325.392857</td>\n",
       "      <td>318.682857</td>\n",
       "      <td>643.132857</td>\n",
       "      <td>7.208100e+06</td>\n",
       "    </tr>\n",
       "    <tr>\n",
       "      <th>2012-01-12</th>\n",
       "      <td>321.457143</td>\n",
       "      <td>322.882857</td>\n",
       "      <td>316.841429</td>\n",
       "      <td>638.037143</td>\n",
       "      <td>6.691514e+06</td>\n",
       "    </tr>\n",
       "    <tr>\n",
       "      <th>2012-01-13</th>\n",
       "      <td>318.698571</td>\n",
       "      <td>319.801429</td>\n",
       "      <td>314.025714</td>\n",
       "      <td>631.870000</td>\n",
       "      <td>6.531857e+06</td>\n",
       "    </tr>\n",
       "    <tr>\n",
       "      <th>2012-01-17</th>\n",
       "      <td>316.552857</td>\n",
       "      <td>317.524286</td>\n",
       "      <td>311.851429</td>\n",
       "      <td>627.534286</td>\n",
       "      <td>6.137929e+06</td>\n",
       "    </tr>\n",
       "    <tr>\n",
       "      <th>2012-01-18</th>\n",
       "      <td>314.238571</td>\n",
       "      <td>315.674286</td>\n",
       "      <td>309.882857</td>\n",
       "      <td>625.097143</td>\n",
       "      <td>6.157657e+06</td>\n",
       "    </tr>\n",
       "    <tr>\n",
       "      <th>2012-01-19</th>\n",
       "      <td>313.847143</td>\n",
       "      <td>315.247143</td>\n",
       "      <td>310.610000</td>\n",
       "      <td>627.534286</td>\n",
       "      <td>6.296086e+06</td>\n",
       "    </tr>\n",
       "    <tr>\n",
       "      <th>2012-01-20</th>\n",
       "      <td>311.055714</td>\n",
       "      <td>312.201429</td>\n",
       "      <td>308.104286</td>\n",
       "      <td>622.242857</td>\n",
       "      <td>8.068629e+06</td>\n",
       "    </tr>\n",
       "    <tr>\n",
       "      <th>2012-01-23</th>\n",
       "      <td>308.387143</td>\n",
       "      <td>309.302857</td>\n",
       "      <td>305.402857</td>\n",
       "      <td>616.481429</td>\n",
       "      <td>8.359129e+06</td>\n",
       "    </tr>\n",
       "    <tr>\n",
       "      <th>2012-01-24</th>\n",
       "      <td>305.192857</td>\n",
       "      <td>306.085714</td>\n",
       "      <td>301.951429</td>\n",
       "      <td>609.541429</td>\n",
       "      <td>8.697700e+06</td>\n",
       "    </tr>\n",
       "    <tr>\n",
       "      <th>2012-01-25</th>\n",
       "      <td>301.724286</td>\n",
       "      <td>302.652857</td>\n",
       "      <td>298.060000</td>\n",
       "      <td>601.634286</td>\n",
       "      <td>9.466400e+06</td>\n",
       "    </tr>\n",
       "    <tr>\n",
       "      <th>2012-01-26</th>\n",
       "      <td>297.454286</td>\n",
       "      <td>298.561429</td>\n",
       "      <td>293.710000</td>\n",
       "      <td>593.017143</td>\n",
       "      <td>9.844071e+06</td>\n",
       "    </tr>\n",
       "    <tr>\n",
       "      <th>2012-01-27</th>\n",
       "      <td>293.480000</td>\n",
       "      <td>294.741429</td>\n",
       "      <td>289.952857</td>\n",
       "      <td>585.475714</td>\n",
       "      <td>1.008950e+07</td>\n",
       "    </tr>\n",
       "    <tr>\n",
       "      <th>2012-01-30</th>\n",
       "      <td>289.001429</td>\n",
       "      <td>290.401429</td>\n",
       "      <td>285.821429</td>\n",
       "      <td>576.660000</td>\n",
       "      <td>8.949586e+06</td>\n",
       "    </tr>\n",
       "    <tr>\n",
       "      <th>2012-01-31</th>\n",
       "      <td>288.465714</td>\n",
       "      <td>289.902857</td>\n",
       "      <td>285.355714</td>\n",
       "      <td>575.821429</td>\n",
       "      <td>6.530857e+06</td>\n",
       "    </tr>\n",
       "  </tbody>\n",
       "</table>\n",
       "</div>"
      ],
      "text/plain": [
       "                  Open        High         Low       Close        Volume\n",
       "Date                                                                    \n",
       "2012-01-03         NaN         NaN         NaN         NaN           NaN\n",
       "2012-01-04         NaN         NaN         NaN         NaN           NaN\n",
       "2012-01-05         NaN         NaN         NaN         NaN           NaN\n",
       "2012-01-06         NaN         NaN         NaN         NaN           NaN\n",
       "2012-01-09         NaN         NaN         NaN         NaN           NaN\n",
       "2012-01-10         NaN         NaN         NaN         NaN           NaN\n",
       "2012-01-11  323.002857  325.392857  318.682857  643.132857  7.208100e+06\n",
       "2012-01-12  321.457143  322.882857  316.841429  638.037143  6.691514e+06\n",
       "2012-01-13  318.698571  319.801429  314.025714  631.870000  6.531857e+06\n",
       "2012-01-17  316.552857  317.524286  311.851429  627.534286  6.137929e+06\n",
       "2012-01-18  314.238571  315.674286  309.882857  625.097143  6.157657e+06\n",
       "2012-01-19  313.847143  315.247143  310.610000  627.534286  6.296086e+06\n",
       "2012-01-20  311.055714  312.201429  308.104286  622.242857  8.068629e+06\n",
       "2012-01-23  308.387143  309.302857  305.402857  616.481429  8.359129e+06\n",
       "2012-01-24  305.192857  306.085714  301.951429  609.541429  8.697700e+06\n",
       "2012-01-25  301.724286  302.652857  298.060000  601.634286  9.466400e+06\n",
       "2012-01-26  297.454286  298.561429  293.710000  593.017143  9.844071e+06\n",
       "2012-01-27  293.480000  294.741429  289.952857  585.475714  1.008950e+07\n",
       "2012-01-30  289.001429  290.401429  285.821429  576.660000  8.949586e+06\n",
       "2012-01-31  288.465714  289.902857  285.355714  575.821429  6.530857e+06"
      ]
     },
     "execution_count": 35,
     "metadata": {},
     "output_type": "execute_result"
    }
   ],
   "source": [
    "df.rolling(7).mean().head(20)"
   ]
  },
  {
   "cell_type": "code",
   "execution_count": 36,
   "metadata": {},
   "outputs": [
    {
     "data": {
      "text/plain": [
       "<matplotlib.axes._subplots.AxesSubplot at 0x2a87e99b640>"
      ]
     },
     "execution_count": 36,
     "metadata": {},
     "output_type": "execute_result"
    },
    {
     "data": {
      "image/png": "[encoded data removed]",
      "text/plain": [
       "<Figure size 1152x432 with 1 Axes>"
      ]
     },
     "metadata": {
      "needs_background": "light"
     },
     "output_type": "display_data"
    }
   ],
   "source": [
    "df['Open'].plot(figsize = (16,6))\n",
    "df.rolling(window = 30).mean()['Close'].plot()"
   ]
  },
  {
   "cell_type": "code",
   "execution_count": 38,
   "metadata": {},
   "outputs": [
    {
     "data": {
      "text/plain": [
       "<matplotlib.axes._subplots.AxesSubplot at 0x2a87f05dac0>"
      ]
     },
     "execution_count": 38,
     "metadata": {},
     "output_type": "execute_result"
    },
    {
     "data": {
      "image/png": "[encoded data removed]",
      "text/plain": [
       "<Figure size 1152x432 with 1 Axes>"
      ]
     },
     "metadata": {
      "needs_background": "light"
     },
     "output_type": "display_data"
    }
   ],
   "source": [
    "df['Close : 30days'] = df['Close'].rolling(window = 30).mean()\n",
    "df[['Close','Close : 30days']].plot(figsize = (16,6))"
   ]
  },
  {
   "cell_type": "code",
   "execution_count": 39,
   "metadata": {},
   "outputs": [
    {
     "data": {
      "text/plain": [
       "<matplotlib.axes._subplots.AxesSubplot at 0x2a87e797ac0>"
      ]
     },
     "execution_count": 39,
     "metadata": {},
     "output_type": "execute_result"
    },
    {
     "data": {
      "image/png": "[encoded data removed]",
      "text/plain": [
       "<Figure size 1152x432 with 1 Axes>"
      ]
     },
     "metadata": {
      "needs_background": "light"
     },
     "output_type": "display_data"
    }
   ],
   "source": [
    "df['Close'].expanding(min_periods = 1).mean().plot(figsize = (16,6))"
   ]
  },
  {
   "cell_type": "code",
   "execution_count": 40,
   "metadata": {},
   "outputs": [],
   "source": [
    "training_set = df['Open']\n",
    "training_set = pd.DataFrame(training_set)"
   ]
  },
  {
   "cell_type": "code",
   "execution_count": 41,
   "metadata": {},
   "outputs": [
    {
     "data": {
      "text/plain": [
       "1258"
      ]
     },
     "execution_count": 41,
     "metadata": {},
     "output_type": "execute_result"
    }
   ],
   "source": [
    "training_set.size"
   ]
  },
  {
   "cell_type": "code",
   "execution_count": 42,
   "metadata": {},
   "outputs": [
    {
     "data": {
      "text/plain": [
       "Open              False\n",
       "High              False\n",
       "Low               False\n",
       "Close             False\n",
       "Volume            False\n",
       "Close : 30days     True\n",
       "dtype: bool"
      ]
     },
     "execution_count": 42,
     "metadata": {},
     "output_type": "execute_result"
    }
   ],
   "source": [
    "df.isnull().any()"
   ]
  },
  {
   "cell_type": "markdown",
   "metadata": {},
   "source": [
    "Data Preprocessing"
   ]
  },
  {
   "cell_type": "code",
   "execution_count": 44,
   "metadata": {},
   "outputs": [],
   "source": [
    "from sklearn.preprocessing import MinMaxScaler\n",
    "sc = MinMaxScaler(feature_range = (0,1))\n",
    "training_set_scaled = sc.fit_transform(training_set)"
   ]
  },
  {
   "cell_type": "code",
   "execution_count": 45,
   "metadata": {},
   "outputs": [],
   "source": [
    "X_train = []\n",
    "y_train = []\n",
    "for i in range(60,1258):\n",
    "    X_train.append(training_set_scaled[i-60:i, 0])\n",
    "    y_train.append(training_set_scaled[i,0])\n"
   ]
  },
  {
   "cell_type": "code",
   "execution_count": 46,
   "metadata": {},
   "outputs": [],
   "source": [
    "X_train = np.array(X_train)\n",
    "y_train = np.array(y_train)"
   ]
  },
  {
   "cell_type": "code",
   "execution_count": 47,
   "metadata": {},
   "outputs": [],
   "source": [
    "X_train = np.reshape(X_train, (X_train.shape[0], X_train.shape[1],1))"
   ]
  },
  {
   "cell_type": "code",
   "execution_count": 48,
   "metadata": {},
   "outputs": [],
   "source": [
    "from tensorflow import keras\n",
    "from tensorflow.keras.models import Sequential\n",
    "from tensorflow.keras.layers import LSTM, Dense, Dropout"
   ]
  },
  {
   "cell_type": "code",
   "execution_count": 49,
   "metadata": {},
   "outputs": [],
   "source": [
    "model = Sequential()"
   ]
  },
  {
   "cell_type": "code",
   "execution_count": 50,
   "metadata": {},
   "outputs": [],
   "source": [
    "model.add(LSTM(units = 50, return_sequences = True , input_shape = (X_train.shape[1],1)))\n",
    "model.add(Dropout(0.2))\n",
    "\n",
    "model.add(LSTM(units = 50, return_sequences = True))\n",
    "model.add(Dropout(0.2))\n",
    "\n",
    "model.add(LSTM(units = 50, return_sequences = True ))\n",
    "model.add(Dropout(0.2))\n",
    "\n",
    "model.add(LSTM(units = 50, return_sequences = True ))\n",
    "model.add(Dropout(0.2))\n",
    "model.add(Dense(units = 1))"
   ]
  },
  {
   "cell_type": "code",
   "execution_count": 51,
   "metadata": {},
   "outputs": [],
   "source": [
    "model.compile(optimizer='adam',loss='mean_squared_error')"
   ]
  },
  {
   "cell_type": "code",
   "execution_count": 52,
   "metadata": {},
   "outputs": [
    {
     "name": "stdout",
     "output_type": "stream",
     "text": [
      "Epoch 1/100\n",
      "38/38 [==============================] - 11s 70ms/step - loss: 0.0789\n",
      "Epoch 2/100\n",
      "38/38 [==============================] - 3s 69ms/step - loss: 0.0292\n",
      "Epoch 3/100\n",
      "38/38 [==============================] - 3s 69ms/step - loss: 0.0222\n",
      "Epoch 4/100\n",
      "38/38 [==============================] - 3s 69ms/step - loss: 0.0192\n",
      "Epoch 5/100\n",
      "38/38 [==============================] - 3s 69ms/step - loss: 0.0171\n",
      "Epoch 6/100\n",
      "38/38 [==============================] - 3s 69ms/step - loss: 0.0157\n",
      "Epoch 7/100\n",
      "38/38 [==============================] - 3s 69ms/step - loss: 0.0141\n",
      "Epoch 8/100\n",
      "38/38 [==============================] - 3s 69ms/step - loss: 0.0134\n",
      "Epoch 9/100\n",
      "38/38 [==============================] - 3s 69ms/step - loss: 0.0126\n",
      "Epoch 10/100\n",
      "38/38 [==============================] - 3s 69ms/step - loss: 0.0122\n",
      "Epoch 11/100\n",
      "38/38 [==============================] - 3s 70ms/step - loss: 0.0115\n",
      "Epoch 12/100\n",
      "38/38 [==============================] - 3s 69ms/step - loss: 0.0108\n",
      "Epoch 13/100\n",
      "38/38 [==============================] - 3s 69ms/step - loss: 0.0105\n",
      "Epoch 14/100\n",
      "38/38 [==============================] - 3s 69ms/step - loss: 0.0100\n",
      "Epoch 15/100\n",
      "38/38 [==============================] - 3s 69ms/step - loss: 0.0097\n",
      "Epoch 16/100\n",
      "38/38 [==============================] - 3s 69ms/step - loss: 0.0095\n",
      "Epoch 17/100\n",
      "38/38 [==============================] - 3s 69ms/step - loss: 0.0094\n",
      "Epoch 18/100\n",
      "38/38 [==============================] - 3s 69ms/step - loss: 0.0090\n",
      "Epoch 19/100\n",
      "38/38 [==============================] - 3s 69ms/step - loss: 0.0088\n",
      "Epoch 20/100\n",
      "38/38 [==============================] - 3s 69ms/step - loss: 0.0087\n",
      "Epoch 21/100\n",
      "38/38 [==============================] - 3s 70ms/step - loss: 0.0085\n",
      "Epoch 22/100\n",
      "38/38 [==============================] - 3s 69ms/step - loss: 0.0083\n",
      "Epoch 23/100\n",
      "38/38 [==============================] - 3s 69ms/step - loss: 0.0080\n",
      "Epoch 24/100\n",
      "38/38 [==============================] - 3s 69ms/step - loss: 0.0079\n",
      "Epoch 25/100\n",
      "38/38 [==============================] - 3s 69ms/step - loss: 0.0079\n",
      "Epoch 26/100\n",
      "38/38 [==============================] - 3s 69ms/step - loss: 0.0076\n",
      "Epoch 27/100\n",
      "38/38 [==============================] - 3s 69ms/step - loss: 0.0076\n",
      "Epoch 28/100\n",
      "38/38 [==============================] - 3s 69ms/step - loss: 0.0074\n",
      "Epoch 29/100\n",
      "38/38 [==============================] - 3s 69ms/step - loss: 0.0074\n",
      "Epoch 30/100\n",
      "38/38 [==============================] - 3s 69ms/step - loss: 0.0075\n",
      "Epoch 31/100\n",
      "38/38 [==============================] - 3s 69ms/step - loss: 0.0075\n",
      "Epoch 32/100\n",
      "38/38 [==============================] - 3s 69ms/step - loss: 0.0073\n",
      "Epoch 33/100\n",
      "38/38 [==============================] - 3s 69ms/step - loss: 0.0070\n",
      "Epoch 34/100\n",
      "38/38 [==============================] - 3s 69ms/step - loss: 0.0071\n",
      "Epoch 35/100\n",
      "38/38 [==============================] - 3s 69ms/step - loss: 0.0071\n",
      "Epoch 36/100\n",
      "38/38 [==============================] - 3s 69ms/step - loss: 0.0069\n",
      "Epoch 37/100\n",
      "38/38 [==============================] - 3s 69ms/step - loss: 0.0070\n",
      "Epoch 38/100\n",
      "38/38 [==============================] - 3s 69ms/step - loss: 0.0068\n",
      "Epoch 39/100\n",
      "38/38 [==============================] - 3s 69ms/step - loss: 0.0068\n",
      "Epoch 40/100\n",
      "38/38 [==============================] - 3s 70ms/step - loss: 0.0072\n",
      "Epoch 41/100\n",
      "38/38 [==============================] - 3s 71ms/step - loss: 0.0068\n",
      "Epoch 42/100\n",
      "38/38 [==============================] - 3s 70ms/step - loss: 0.0066\n",
      "Epoch 43/100\n",
      "38/38 [==============================] - 3s 69ms/step - loss: 0.0065\n",
      "Epoch 44/100\n",
      "38/38 [==============================] - 3s 70ms/step - loss: 0.0065\n",
      "Epoch 45/100\n",
      "38/38 [==============================] - 3s 70ms/step - loss: 0.0066\n",
      "Epoch 46/100\n",
      "38/38 [==============================] - 3s 70ms/step - loss: 0.0063\n",
      "Epoch 47/100\n",
      "38/38 [==============================] - 3s 72ms/step - loss: 0.0064\n",
      "Epoch 48/100\n",
      "38/38 [==============================] - 3s 70ms/step - loss: 0.0065\n",
      "Epoch 49/100\n",
      "38/38 [==============================] - 3s 71ms/step - loss: 0.0064\n",
      "Epoch 50/100\n",
      "38/38 [==============================] - 3s 70ms/step - loss: 0.0064\n",
      "Epoch 51/100\n",
      "38/38 [==============================] - 3s 70ms/step - loss: 0.0063\n",
      "Epoch 52/100\n",
      "38/38 [==============================] - 3s 70ms/step - loss: 0.0065\n",
      "Epoch 53/100\n",
      "38/38 [==============================] - 3s 70ms/step - loss: 0.0064\n",
      "Epoch 54/100\n",
      "38/38 [==============================] - 3s 70ms/step - loss: 0.0067\n",
      "Epoch 55/100\n",
      "38/38 [==============================] - 3s 70ms/step - loss: 0.0062\n",
      "Epoch 56/100\n",
      "38/38 [==============================] - 3s 70ms/step - loss: 0.0063\n",
      "Epoch 57/100\n",
      "38/38 [==============================] - 3s 70ms/step - loss: 0.0063\n",
      "Epoch 58/100\n",
      "38/38 [==============================] - 3s 71ms/step - loss: 0.0063\n",
      "Epoch 59/100\n",
      "38/38 [==============================] - 3s 70ms/step - loss: 0.0062\n",
      "Epoch 60/100\n",
      "38/38 [==============================] - 3s 70ms/step - loss: 0.0062\n",
      "Epoch 61/100\n",
      "38/38 [==============================] - 3s 70ms/step - loss: 0.0062\n",
      "Epoch 62/100\n",
      "38/38 [==============================] - 3s 70ms/step - loss: 0.0063\n",
      "Epoch 63/100\n",
      "38/38 [==============================] - 3s 70ms/step - loss: 0.0069\n",
      "Epoch 64/100\n",
      "38/38 [==============================] - 3s 70ms/step - loss: 0.0062\n",
      "Epoch 65/100\n",
      "38/38 [==============================] - 3s 69ms/step - loss: 0.0063\n",
      "Epoch 66/100\n",
      "38/38 [==============================] - 3s 70ms/step - loss: 0.0061\n",
      "Epoch 67/100\n",
      "38/38 [==============================] - 3s 71ms/step - loss: 0.0061\n",
      "Epoch 68/100\n",
      "38/38 [==============================] - 3s 76ms/step - loss: 0.0061\n",
      "Epoch 69/100\n",
      "38/38 [==============================] - 3s 72ms/step - loss: 0.0061\n",
      "Epoch 70/100\n",
      "38/38 [==============================] - 3s 71ms/step - loss: 0.0061\n",
      "Epoch 71/100\n",
      "38/38 [==============================] - 3s 71ms/step - loss: 0.0063\n",
      "Epoch 72/100\n",
      "38/38 [==============================] - 3s 70ms/step - loss: 0.0063\n",
      "Epoch 73/100\n",
      "38/38 [==============================] - 3s 70ms/step - loss: 0.0060\n",
      "Epoch 74/100\n",
      "38/38 [==============================] - 3s 70ms/step - loss: 0.0060\n",
      "Epoch 75/100\n",
      "38/38 [==============================] - 3s 70ms/step - loss: 0.0060\n",
      "Epoch 76/100\n",
      "38/38 [==============================] - 3s 73ms/step - loss: 0.0061\n",
      "Epoch 77/100\n",
      "38/38 [==============================] - 3s 69ms/step - loss: 0.0060\n",
      "Epoch 78/100\n",
      "38/38 [==============================] - 3s 69ms/step - loss: 0.0060\n",
      "Epoch 79/100\n",
      "38/38 [==============================] - 3s 70ms/step - loss: 0.0060\n",
      "Epoch 80/100\n",
      "38/38 [==============================] - 3s 70ms/step - loss: 0.0060\n",
      "Epoch 81/100\n",
      "38/38 [==============================] - 3s 70ms/step - loss: 0.0059\n",
      "Epoch 82/100\n",
      "38/38 [==============================] - 3s 74ms/step - loss: 0.0060\n",
      "Epoch 83/100\n",
      "38/38 [==============================] - 3s 77ms/step - loss: 0.0060\n",
      "Epoch 84/100\n",
      "38/38 [==============================] - 3s 70ms/step - loss: 0.0059\n",
      "Epoch 85/100\n",
      "38/38 [==============================] - 3s 70ms/step - loss: 0.0063\n",
      "Epoch 86/100\n",
      "38/38 [==============================] - 3s 70ms/step - loss: 0.0060\n",
      "Epoch 87/100\n",
      "38/38 [==============================] - 3s 70ms/step - loss: 0.0061\n",
      "Epoch 88/100\n",
      "38/38 [==============================] - 3s 70ms/step - loss: 0.0060\n",
      "Epoch 89/100\n",
      "38/38 [==============================] - 3s 69ms/step - loss: 0.0059\n",
      "Epoch 90/100\n",
      "38/38 [==============================] - 3s 71ms/step - loss: 0.0059\n",
      "Epoch 91/100\n",
      "38/38 [==============================] - 3s 70ms/step - loss: 0.0062\n",
      "Epoch 92/100\n",
      "38/38 [==============================] - 3s 69ms/step - loss: 0.0059\n",
      "Epoch 93/100\n",
      "38/38 [==============================] - 3s 69ms/step - loss: 0.0060\n",
      "Epoch 94/100\n",
      "38/38 [==============================] - 3s 70ms/step - loss: 0.0060\n",
      "Epoch 95/100\n",
      "38/38 [==============================] - 3s 70ms/step - loss: 0.0059\n",
      "Epoch 96/100\n",
      "38/38 [==============================] - 3s 70ms/step - loss: 0.0058\n",
      "Epoch 97/100\n",
      "38/38 [==============================] - 3s 70ms/step - loss: 0.0059\n",
      "Epoch 98/100\n",
      "38/38 [==============================] - 3s 70ms/step - loss: 0.0059\n",
      "Epoch 99/100\n",
      "38/38 [==============================] - 3s 70ms/step - loss: 0.0059\n",
      "Epoch 100/100\n",
      "38/38 [==============================] - 3s 70ms/step - loss: 0.0059\n"
     ]
    },
    {
     "data": {
      "text/plain": [
       "<tensorflow.python.keras.callbacks.History at 0x2a83a1d57f0>"
      ]
     },
     "execution_count": 52,
     "metadata": {},
     "output_type": "execute_result"
    }
   ],
   "source": [
    "model.fit(X_train , y_train, batch_size =32 , epochs=100, )"
   ]
  },
  {
   "cell_type": "code",
   "execution_count": 74,
   "metadata": {},
   "outputs": [],
   "source": [
    "test_set = pd.read_csv('GOOG_test.csv', index_col = 'Date', parse_dates =True)"
   ]
  },
  {
   "cell_type": "code",
   "execution_count": 75,
   "metadata": {},
   "outputs": [
    {
     "data": {
      "text/html": [
       "<div>\n",
       "<style scoped>\n",
       "    .dataframe tbody tr th:only-of-type {\n",
       "        vertical-align: middle;\n",
       "    }\n",
       "\n",
       "    .dataframe tbody tr th {\n",
       "        vertical-align: top;\n",
       "    }\n",
       "\n",
       "    .dataframe thead th {\n",
       "        text-align: right;\n",
       "    }\n",
       "</style>\n",
       "<table border=\"1\" class=\"dataframe\">\n",
       "  <thead>\n",
       "    <tr style=\"text-align: right;\">\n",
       "      <th></th>\n",
       "      <th>Open</th>\n",
       "      <th>High</th>\n",
       "      <th>Low</th>\n",
       "      <th>Close</th>\n",
       "      <th>Adj Close</th>\n",
       "      <th>Volume</th>\n",
       "    </tr>\n",
       "    <tr>\n",
       "      <th>Date</th>\n",
       "      <th></th>\n",
       "      <th></th>\n",
       "      <th></th>\n",
       "      <th></th>\n",
       "      <th></th>\n",
       "      <th></th>\n",
       "    </tr>\n",
       "  </thead>\n",
       "  <tbody>\n",
       "    <tr>\n",
       "      <th>2020-07-20</th>\n",
       "      <td>1515.260010</td>\n",
       "      <td>1570.290039</td>\n",
       "      <td>1503.599976</td>\n",
       "      <td>1565.719971</td>\n",
       "      <td>1565.719971</td>\n",
       "      <td>1557300</td>\n",
       "    </tr>\n",
       "    <tr>\n",
       "      <th>2020-07-21</th>\n",
       "      <td>1586.989990</td>\n",
       "      <td>1586.989990</td>\n",
       "      <td>1554.280029</td>\n",
       "      <td>1558.420044</td>\n",
       "      <td>1558.420044</td>\n",
       "      <td>1216200</td>\n",
       "    </tr>\n",
       "    <tr>\n",
       "      <th>2020-07-22</th>\n",
       "      <td>1560.500000</td>\n",
       "      <td>1570.000000</td>\n",
       "      <td>1546.099976</td>\n",
       "      <td>1568.489990</td>\n",
       "      <td>1568.489990</td>\n",
       "      <td>932000</td>\n",
       "    </tr>\n",
       "    <tr>\n",
       "      <th>2020-07-23</th>\n",
       "      <td>1566.969971</td>\n",
       "      <td>1571.869995</td>\n",
       "      <td>1507.391968</td>\n",
       "      <td>1515.680054</td>\n",
       "      <td>1515.680054</td>\n",
       "      <td>1627600</td>\n",
       "    </tr>\n",
       "    <tr>\n",
       "      <th>2020-07-24</th>\n",
       "      <td>1498.930054</td>\n",
       "      <td>1517.635986</td>\n",
       "      <td>1488.400024</td>\n",
       "      <td>1511.869995</td>\n",
       "      <td>1511.869995</td>\n",
       "      <td>1544000</td>\n",
       "    </tr>\n",
       "  </tbody>\n",
       "</table>\n",
       "</div>"
      ],
      "text/plain": [
       "                   Open         High          Low        Close    Adj Close  \\\n",
       "Date                                                                          \n",
       "2020-07-20  1515.260010  1570.290039  1503.599976  1565.719971  1565.719971   \n",
       "2020-07-21  1586.989990  1586.989990  1554.280029  1558.420044  1558.420044   \n",
       "2020-07-22  1560.500000  1570.000000  1546.099976  1568.489990  1568.489990   \n",
       "2020-07-23  1566.969971  1571.869995  1507.391968  1515.680054  1515.680054   \n",
       "2020-07-24  1498.930054  1517.635986  1488.400024  1511.869995  1511.869995   \n",
       "\n",
       "             Volume  \n",
       "Date                 \n",
       "2020-07-20  1557300  \n",
       "2020-07-21  1216200  \n",
       "2020-07-22   932000  \n",
       "2020-07-23  1627600  \n",
       "2020-07-24  1544000  "
      ]
     },
     "execution_count": 75,
     "metadata": {},
     "output_type": "execute_result"
    }
   ],
   "source": [
    "test_set.head()"
   ]
  },
  {
   "cell_type": "code",
   "execution_count": 76,
   "metadata": {},
   "outputs": [],
   "source": [
    "real_stock_price = test_set.iloc[:,1:2].values"
   ]
  },
  {
   "cell_type": "code",
   "execution_count": 77,
   "metadata": {},
   "outputs": [
    {
     "name": "stdout",
     "output_type": "stream",
     "text": [
      "<class 'pandas.core.frame.DataFrame'>\n",
      "DatetimeIndex: 252 entries, 2020-07-20 to 2021-07-19\n",
      "Data columns (total 6 columns):\n",
      " #   Column     Non-Null Count  Dtype  \n",
      "---  ------     --------------  -----  \n",
      " 0   Open       252 non-null    float64\n",
      " 1   High       252 non-null    float64\n",
      " 2   Low        252 non-null    float64\n",
      " 3   Close      252 non-null    float64\n",
      " 4   Adj Close  252 non-null    float64\n",
      " 5   Volume     252 non-null    int64  \n",
      "dtypes: float64(5), int64(1)\n",
      "memory usage: 13.8 KB\n"
     ]
    }
   ],
   "source": [
    "test_set.info()"
   ]
  },
  {
   "cell_type": "code",
   "execution_count": 78,
   "metadata": {},
   "outputs": [
    {
     "ename": "AttributeError",
     "evalue": "Can only use .str accessor with string values!",
     "output_type": "error",
     "traceback": [
      "\u001b[1;31m---------------------------------------------------------------------------\u001b[0m",
      "\u001b[1;31mAttributeError\u001b[0m                            Traceback (most recent call last)",
      "\u001b[1;32m<ipython-input-78-e1a6d12ce229>\u001b[0m in \u001b[0;36m<module>\u001b[1;34m\u001b[0m\n\u001b[1;32m----> 1\u001b[1;33m \u001b[0mtest_set\u001b[0m\u001b[1;33m[\u001b[0m\u001b[1;34m'Volume'\u001b[0m\u001b[1;33m]\u001b[0m \u001b[1;33m=\u001b[0m\u001b[0mtest_set\u001b[0m\u001b[1;33m[\u001b[0m\u001b[1;34m'Volume'\u001b[0m\u001b[1;33m]\u001b[0m\u001b[1;33m.\u001b[0m\u001b[0mstr\u001b[0m\u001b[1;33m.\u001b[0m\u001b[0mreplace\u001b[0m\u001b[1;33m(\u001b[0m\u001b[1;34m','\u001b[0m\u001b[1;33m,\u001b[0m\u001b[1;34m''\u001b[0m\u001b[1;33m)\u001b[0m\u001b[1;33m.\u001b[0m\u001b[0mastype\u001b[0m\u001b[1;33m(\u001b[0m\u001b[0mfloat\u001b[0m\u001b[1;33m)\u001b[0m\u001b[1;33m\u001b[0m\u001b[1;33m\u001b[0m\u001b[0m\n\u001b[0m",
      "\u001b[1;32mC:\\Anaconda3\\lib\\site-packages\\pandas\\core\\generic.py\u001b[0m in \u001b[0;36m__getattr__\u001b[1;34m(self, name)\u001b[0m\n\u001b[0;32m   5268\u001b[0m             \u001b[1;32mor\u001b[0m \u001b[0mname\u001b[0m \u001b[1;32min\u001b[0m \u001b[0mself\u001b[0m\u001b[1;33m.\u001b[0m\u001b[0m_accessors\u001b[0m\u001b[1;33m\u001b[0m\u001b[1;33m\u001b[0m\u001b[0m\n\u001b[0;32m   5269\u001b[0m         ):\n\u001b[1;32m-> 5270\u001b[1;33m             \u001b[1;32mreturn\u001b[0m \u001b[0mobject\u001b[0m\u001b[1;33m.\u001b[0m\u001b[0m__getattribute__\u001b[0m\u001b[1;33m(\u001b[0m\u001b[0mself\u001b[0m\u001b[1;33m,\u001b[0m \u001b[0mname\u001b[0m\u001b[1;33m)\u001b[0m\u001b[1;33m\u001b[0m\u001b[1;33m\u001b[0m\u001b[0m\n\u001b[0m\u001b[0;32m   5271\u001b[0m         \u001b[1;32melse\u001b[0m\u001b[1;33m:\u001b[0m\u001b[1;33m\u001b[0m\u001b[1;33m\u001b[0m\u001b[0m\n\u001b[0;32m   5272\u001b[0m             \u001b[1;32mif\u001b[0m \u001b[0mself\u001b[0m\u001b[1;33m.\u001b[0m\u001b[0m_info_axis\u001b[0m\u001b[1;33m.\u001b[0m\u001b[0m_can_hold_identifiers_and_holds_name\u001b[0m\u001b[1;33m(\u001b[0m\u001b[0mname\u001b[0m\u001b[1;33m)\u001b[0m\u001b[1;33m:\u001b[0m\u001b[1;33m\u001b[0m\u001b[1;33m\u001b[0m\u001b[0m\n",
      "\u001b[1;32mC:\\Anaconda3\\lib\\site-packages\\pandas\\core\\accessor.py\u001b[0m in \u001b[0;36m__get__\u001b[1;34m(self, obj, cls)\u001b[0m\n\u001b[0;32m    185\u001b[0m             \u001b[1;31m# we're accessing the attribute of the class, i.e., Dataset.geo\u001b[0m\u001b[1;33m\u001b[0m\u001b[1;33m\u001b[0m\u001b[1;33m\u001b[0m\u001b[0m\n\u001b[0;32m    186\u001b[0m             \u001b[1;32mreturn\u001b[0m \u001b[0mself\u001b[0m\u001b[1;33m.\u001b[0m\u001b[0m_accessor\u001b[0m\u001b[1;33m\u001b[0m\u001b[1;33m\u001b[0m\u001b[0m\n\u001b[1;32m--> 187\u001b[1;33m         \u001b[0maccessor_obj\u001b[0m \u001b[1;33m=\u001b[0m \u001b[0mself\u001b[0m\u001b[1;33m.\u001b[0m\u001b[0m_accessor\u001b[0m\u001b[1;33m(\u001b[0m\u001b[0mobj\u001b[0m\u001b[1;33m)\u001b[0m\u001b[1;33m\u001b[0m\u001b[1;33m\u001b[0m\u001b[0m\n\u001b[0m\u001b[0;32m    188\u001b[0m         \u001b[1;31m# Replace the property with the accessor object. Inspired by:\u001b[0m\u001b[1;33m\u001b[0m\u001b[1;33m\u001b[0m\u001b[1;33m\u001b[0m\u001b[0m\n\u001b[0;32m    189\u001b[0m         \u001b[1;31m# http://www.pydanny.com/cached-property.html\u001b[0m\u001b[1;33m\u001b[0m\u001b[1;33m\u001b[0m\u001b[1;33m\u001b[0m\u001b[0m\n",
      "\u001b[1;32mC:\\Anaconda3\\lib\\site-packages\\pandas\\core\\strings.py\u001b[0m in \u001b[0;36m__init__\u001b[1;34m(self, data)\u001b[0m\n\u001b[0;32m   2039\u001b[0m \u001b[1;33m\u001b[0m\u001b[0m\n\u001b[0;32m   2040\u001b[0m     \u001b[1;32mdef\u001b[0m \u001b[0m__init__\u001b[0m\u001b[1;33m(\u001b[0m\u001b[0mself\u001b[0m\u001b[1;33m,\u001b[0m \u001b[0mdata\u001b[0m\u001b[1;33m)\u001b[0m\u001b[1;33m:\u001b[0m\u001b[1;33m\u001b[0m\u001b[1;33m\u001b[0m\u001b[0m\n\u001b[1;32m-> 2041\u001b[1;33m         \u001b[0mself\u001b[0m\u001b[1;33m.\u001b[0m\u001b[0m_inferred_dtype\u001b[0m \u001b[1;33m=\u001b[0m \u001b[0mself\u001b[0m\u001b[1;33m.\u001b[0m\u001b[0m_validate\u001b[0m\u001b[1;33m(\u001b[0m\u001b[0mdata\u001b[0m\u001b[1;33m)\u001b[0m\u001b[1;33m\u001b[0m\u001b[1;33m\u001b[0m\u001b[0m\n\u001b[0m\u001b[0;32m   2042\u001b[0m         \u001b[0mself\u001b[0m\u001b[1;33m.\u001b[0m\u001b[0m_is_categorical\u001b[0m \u001b[1;33m=\u001b[0m \u001b[0mis_categorical_dtype\u001b[0m\u001b[1;33m(\u001b[0m\u001b[0mdata\u001b[0m\u001b[1;33m)\u001b[0m\u001b[1;33m\u001b[0m\u001b[1;33m\u001b[0m\u001b[0m\n\u001b[0;32m   2043\u001b[0m         \u001b[0mself\u001b[0m\u001b[1;33m.\u001b[0m\u001b[0m_is_string\u001b[0m \u001b[1;33m=\u001b[0m \u001b[0mdata\u001b[0m\u001b[1;33m.\u001b[0m\u001b[0mdtype\u001b[0m\u001b[1;33m.\u001b[0m\u001b[0mname\u001b[0m \u001b[1;33m==\u001b[0m \u001b[1;34m\"string\"\u001b[0m\u001b[1;33m\u001b[0m\u001b[1;33m\u001b[0m\u001b[0m\n",
      "\u001b[1;32mC:\\Anaconda3\\lib\\site-packages\\pandas\\core\\strings.py\u001b[0m in \u001b[0;36m_validate\u001b[1;34m(data)\u001b[0m\n\u001b[0;32m   2096\u001b[0m \u001b[1;33m\u001b[0m\u001b[0m\n\u001b[0;32m   2097\u001b[0m         \u001b[1;32mif\u001b[0m \u001b[0minferred_dtype\u001b[0m \u001b[1;32mnot\u001b[0m \u001b[1;32min\u001b[0m \u001b[0mallowed_types\u001b[0m\u001b[1;33m:\u001b[0m\u001b[1;33m\u001b[0m\u001b[1;33m\u001b[0m\u001b[0m\n\u001b[1;32m-> 2098\u001b[1;33m             \u001b[1;32mraise\u001b[0m \u001b[0mAttributeError\u001b[0m\u001b[1;33m(\u001b[0m\u001b[1;34m\"Can only use .str accessor with string values!\"\u001b[0m\u001b[1;33m)\u001b[0m\u001b[1;33m\u001b[0m\u001b[1;33m\u001b[0m\u001b[0m\n\u001b[0m\u001b[0;32m   2099\u001b[0m         \u001b[1;32mreturn\u001b[0m \u001b[0minferred_dtype\u001b[0m\u001b[1;33m\u001b[0m\u001b[1;33m\u001b[0m\u001b[0m\n\u001b[0;32m   2100\u001b[0m \u001b[1;33m\u001b[0m\u001b[0m\n",
      "\u001b[1;31mAttributeError\u001b[0m: Can only use .str accessor with string values!"
     ]
    }
   ],
   "source": [
    "test_set['Volume'] =test_set['Volume'].str.replace(',','').astype(float)"
   ]
  },
  {
   "cell_type": "code",
   "execution_count": 79,
   "metadata": {},
   "outputs": [
    {
     "data": {
      "text/plain": [
       "1512"
      ]
     },
     "execution_count": 79,
     "metadata": {},
     "output_type": "execute_result"
    }
   ],
   "source": [
    "test_set.size"
   ]
  },
  {
   "cell_type": "code",
   "execution_count": 80,
   "metadata": {},
   "outputs": [],
   "source": [
    "dataset_total = pd.concat((df['Open'], test_set['Open']),axis = 0)"
   ]
  },
  {
   "cell_type": "code",
   "execution_count": 81,
   "metadata": {},
   "outputs": [
    {
     "data": {
      "text/plain": [
       "1510"
      ]
     },
     "execution_count": 81,
     "metadata": {},
     "output_type": "execute_result"
    }
   ],
   "source": [
    "dataset_total.size"
   ]
  },
  {
   "cell_type": "code",
   "execution_count": 82,
   "metadata": {},
   "outputs": [],
   "source": [
    "inputs = dataset_total[len(dataset_total) - len(test_set) - 60:].values\n",
    "inputs = inputs.reshape(-1,1)\n",
    "inputs = sc.transform(inputs)\n",
    "X_test = []\n",
    "for i in range(60, 80):\n",
    "    X_test.append(inputs[i-60:i, 0])\n",
    "X_test = np.array(X_test)\n",
    "X_test = np.reshape(X_test,(X_test.shape[0], X_test.shape[1], 1))\n",
    "predicted_stock_price = model.predict(X_test)"
   ]
  },
  {
   "cell_type": "code",
   "execution_count": 83,
   "metadata": {},
   "outputs": [
    {
     "data": {
      "text/plain": [
       "(20, 60, 1)"
      ]
     },
     "execution_count": 83,
     "metadata": {},
     "output_type": "execute_result"
    }
   ],
   "source": [
    "predicted_stock_price.shape"
   ]
  },
  {
   "cell_type": "code",
   "execution_count": 86,
   "metadata": {},
   "outputs": [],
   "source": [
    "predicted_stock_price = sc.inverse_transform(predicted_stock_price.reshape(-1,1))"
   ]
  },
  {
   "cell_type": "code",
   "execution_count": 87,
   "metadata": {},
   "outputs": [],
   "source": [
    "predicted_stock_price = pd.DataFrame(predicted_stock_price)"
   ]
  },
  {
   "cell_type": "code",
   "execution_count": 88,
   "metadata": {},
   "outputs": [
    {
     "name": "stdout",
     "output_type": "stream",
     "text": [
      "<class 'pandas.core.frame.DataFrame'>\n",
      "RangeIndex: 1200 entries, 0 to 1199\n",
      "Data columns (total 1 columns):\n",
      " #   Column  Non-Null Count  Dtype  \n",
      "---  ------  --------------  -----  \n",
      " 0   0       1200 non-null   float32\n",
      "dtypes: float32(1)\n",
      "memory usage: 4.8 KB\n"
     ]
    }
   ],
   "source": [
    "predicted_stock_price.info()"
   ]
  },
  {
   "cell_type": "code",
   "execution_count": 89,
   "metadata": {},
   "outputs": [
    {
     "data": {
      "image/png": "[encoded data removed]",
      "text/plain": [
       "<Figure size 432x288 with 1 Axes>"
      ]
     },
     "metadata": {
      "needs_background": "light"
     },
     "output_type": "display_data"
    }
   ],
   "source": [
    "plt.plot(real_stock_price , color = 'red',label = 'Real Google Stock Price')\n",
    "plt.plot(predicted_stock_price , color = 'Blue',label = 'Predicted Google Stock Price')\n",
    "plt.title('Google Stock Price Prediction')\n",
    "plt.xlabel('Time')\n",
    "plt.ylabel('Google stock price')\n",
    "plt.legend()\n",
    "plt.show()\n"
   ]
  },
  {
   "cell_type": "code",
   "execution_count": null,
   "metadata": {},
   "outputs": [],
   "source": []
  },
  {
   "cell_type": "code",
   "execution_count": null,
   "metadata": {},
   "outputs": [],
   "source": []
  }
 ],
 "metadata": {
  "kernelspec": {
   "display_name": "Python 3",
   "language": "python",
   "name": "python3"
  },
  "language_info": {
   "codemirror_mode": {
    "name": "ipython",
    "version": 3
   },
   "file_extension": ".py",
   "mimetype": "text/x-python",
   "name": "python",
   "nbconvert_exporter": "python",
   "pygments_lexer": "ipython3",
   "version": "3.8.3"
  }
 },
 "nbformat": 4,
 "nbformat_minor": 4
}
